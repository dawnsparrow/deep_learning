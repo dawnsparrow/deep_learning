{
 "cells": [
  {
   "cell_type": "code",
   "execution_count": 1,
   "metadata": {},
   "outputs": [
    {
     "name": "stderr",
     "output_type": "stream",
     "text": [
      "/home/ubuntu/anaconda3/envs/tensorflow_p36/lib/python3.6/site-packages/matplotlib/__init__.py:1067: UserWarning: Duplicate key in file \"/home/ubuntu/.config/matplotlib/matplotlibrc\", line #2\n",
      "  (fname, cnt))\n",
      "/home/ubuntu/anaconda3/envs/tensorflow_p36/lib/python3.6/site-packages/matplotlib/__init__.py:1067: UserWarning: Duplicate key in file \"/home/ubuntu/.config/matplotlib/matplotlibrc\", line #3\n",
      "  (fname, cnt))\n",
      "/home/ubuntu/anaconda3/envs/tensorflow_p36/lib/python3.6/site-packages/h5py/__init__.py:36: FutureWarning: Conversion of the second argument of issubdtype from `float` to `np.floating` is deprecated. In future, it will be treated as `np.float64 == np.dtype(float).type`.\n",
      "  from ._conv import register_converters as _register_converters\n",
      "Using TensorFlow backend.\n"
     ]
    }
   ],
   "source": [
    "import numpy as np\n",
    "\n",
    "import os\n",
    "import glob\n",
    "import cv2\n",
    "import math\n",
    "import pickle\n",
    "import datetime\n",
    "import pandas as pd\n",
    "import h5py\n",
    "from sklearn.model_selection import KFold\n",
    "from keras.models import Sequential\n",
    "from keras.models import Model\n",
    "from keras.applications.resnet50 import preprocess_input\n",
    "from keras.layers.core import Dense, Dropout, Flatten\n",
    "from keras.preprocessing import image\n",
    "from keras.layers.convolutional import Convolution2D, MaxPooling2D, ZeroPadding2D\n",
    "from keras.layers.pooling import GlobalAveragePooling2D\n",
    "from keras.applications.vgg16 import VGG16\n",
    "from keras.applications.resnet50 import ResNet50\n",
    "# from keras.layers.normalization import BatchNormalization\n",
    "# from keras.optimizers import Adam\n",
    "from keras import optimizers\n",
    "from keras.utils import np_utils\n",
    "from keras.models import model_from_json\n",
    "# from sklearn.metrics import log_loss\n",
    "from numpy.random import permutation\n",
    "from sklearn import preprocessing\n",
    "%matplotlib inline\n",
    "from matplotlib import pyplot as plt\n",
    "np.random.seed(2016)\n",
    "use_cache = 1"
   ]
  },
  {
   "cell_type": "code",
   "execution_count": 2,
   "metadata": {},
   "outputs": [],
   "source": [
    "#以RGB形式获取一张图像并预处理（减去RGB均值）\n",
    "def get_im(path, img_rows=224, img_cols=224):\n",
    "    img = image.load_img(path, target_size=(img_rows, img_cols))\n",
    "    x = image.img_to_array(img)\n",
    "    x = np.expand_dims(x, axis=0)\n",
    "    x = preprocess_input(x)\n",
    "    x = x[0]\n",
    "    return x"
   ]
  },
  {
   "cell_type": "code",
   "execution_count": 3,
   "metadata": {},
   "outputs": [],
   "source": [
    "#从driver_imgs_list.csv获取（图像文件名-司机id）字典\n",
    "def get_driver_data():\n",
    "    dr = dict()\n",
    "    path = os.path.join('.', 'driver_imgs_list.csv')\n",
    "    print('Read drivers data')\n",
    "    f = open(path, 'r')\n",
    "    line = f.readline()\n",
    "    while (1):\n",
    "        line = f.readline()\n",
    "        if line == '':\n",
    "            break\n",
    "        arr = line.strip().split(',')\n",
    "        dr[arr[2]] = arr[0]\n",
    "    f.close()\n",
    "    return dr"
   ]
  },
  {
   "cell_type": "code",
   "execution_count": 4,
   "metadata": {},
   "outputs": [],
   "source": [
    "#以ndarray形式加载训练集,并对标签进行独热编码\n",
    "def load_train(img_rows=224, img_cols=224):\n",
    "    X_train = []\n",
    "    y_train = []\n",
    "    driver_id = []\n",
    "\n",
    "    driver_data = get_driver_data()\n",
    "\n",
    "    print('Read train images')\n",
    "    for j in range(10):\n",
    "        print('Load folder c{}'.format(j))\n",
    "        path = os.path.join('.', 'train', 'c' + str(j), '*.jpg')\n",
    "        files = glob.glob(path)\n",
    "        for fl in files:\n",
    "            flbase = os.path.basename(fl)\n",
    "            img = get_im(fl, img_rows, img_cols)\n",
    "            X_train.append(img)\n",
    "            y_train.append(j)\n",
    "            driver_id.append(driver_data[flbase])\n",
    "    \n",
    "    one_hot_encoder = preprocessing.OneHotEncoder(n_values=10)\n",
    "    y_train = one_hot_encoder.fit_transform(np.array(y_train).reshape(-1,1)).toarray()\n",
    "    unique_drivers = sorted(list(set(driver_id)))\n",
    "    print('Unique drivers: {}'.format(len(unique_drivers)))\n",
    "    print(unique_drivers)\n",
    "    return np.array(X_train, dtype='float32'), np.array(y_train, dtype='float32'), driver_id, unique_drivers"
   ]
  },
  {
   "cell_type": "code",
   "execution_count": 5,
   "metadata": {},
   "outputs": [],
   "source": [
    "#分离出某些司机数据作为验证集\n",
    "def train_val_split(driver_val, driver_id, X, y):\n",
    "    val = []\n",
    "    tra = [a for a in range(len(X))]\n",
    "    assert (len(driver_id) == len(X)) & (len(driver_id) == len(y))\n",
    "    \n",
    "    for a in range(len(X)):\n",
    "        if driver_id[a] in driver_val:\n",
    "            val.append(a)\n",
    "    X_val = np.array([X[a] for a in val], dtype='float32')\n",
    "    y_val = np.array([y[a] for a in val], dtype='float32')\n",
    "    \n",
    "    for a in val:\n",
    "        tra.remove(a)\n",
    "    X_train = np.array([X[a] for a in tra], dtype='float32')\n",
    "    y_train = np.array([y[a] for a in tra], dtype='float32')\n",
    "    \n",
    "    return X_train, y_train, X_val, y_val"
   ]
  },
  {
   "cell_type": "code",
   "execution_count": 6,
   "metadata": {},
   "outputs": [],
   "source": [
    "#以ndarray形式加载测试集\n",
    "def load_test_generator(batch_size, img_rows=224, img_cols=224):\n",
    "    print('Read test images')\n",
    "    path = os.path.join('.', 'test', '*.jpg')\n",
    "    files = glob.glob(path)[:]\n",
    "    X_test = []\n",
    "    steps = 1\n",
    "    while(steps <= math.ceil(len(files)/batch_size)):\n",
    "        start = steps*batch_size\n",
    "        end = min(len(files), start+batch_size)\n",
    "    \n",
    "        for fl in files[start:end]:\n",
    "            flbase = os.path.basename(fl)\n",
    "            img = get_im(fl, img_rows, img_cols)\n",
    "            X_test.append(img)\n",
    "        steps += 1\n",
    "        yield np.array(X_test, dtype='float32')"
   ]
  },
  {
   "cell_type": "code",
   "execution_count": 7,
   "metadata": {},
   "outputs": [],
   "source": [
    "def get_X_text_id():\n",
    "    path = os.path.join('.', 'test', '*.jpg')\n",
    "    files = glob.glob(path)\n",
    "    X_test_id = []\n",
    "    for fl in files:\n",
    "        flbase = os.path.basename(fl)\n",
    "        X_test_id.append(flbase)\n",
    "    return X_test_id"
   ]
  },
  {
   "cell_type": "code",
   "execution_count": 10,
   "metadata": {},
   "outputs": [],
   "source": [
    "def read_train_and_val_data(img_rows, img_cols):\n",
    "\n",
    "    cache_path = os.path.join('cache', 'train_r_' + str(img_rows) +\n",
    "                              '_c_' + str(img_cols) + '_t_' +\n",
    "                              str(3) + '.dat')\n",
    "\n",
    "    if not os.path.isfile(cache_path) or use_cache == 0:\n",
    "        X_train, y_train, driver_id, unique_drivers = load_train(img_rows, img_cols)\n",
    "        cache_data((X_train, y_train, driver_id, unique_drivers), cache_path)\n",
    "    else:\n",
    "        print('Restore train from cache!')\n",
    "        (X_train, y_train, driver_id, unique_drivers) = restore_data(cache_path)\n",
    "    driver_val = ['p026','p035','p039','p041']\n",
    "    X_train, y_train, X_val, y_val = train_val_split(driver_val, driver_id, X_train, y_train)\n",
    "    print('Train shape:', X_train.shape)\n",
    "    print(X_train.shape[0], 'train samples')\n",
    "    return X_train, y_train, X_val, y_val"
   ]
  },
  {
   "cell_type": "code",
   "execution_count": 11,
   "metadata": {},
   "outputs": [],
   "source": [
    "#对数据随机排序并划分batch\n",
    "def shuffle_and_batch(batch_size, X_train, y_train):\n",
    "    r = np.random.permutation(len(X_train))\n",
    "    new_X_train, new_y_train = X_train[r,:,:,:], y_train[r,:]\n",
    "    for start in range(0, len(new_X_train), batch_size):\n",
    "        end = min(start + batch_size, len(X_train))\n",
    "        yield np.array(new_X_train[start:end], dtype='float32'), np.array(new_y_train[start: end], dtype='float32')"
   ]
  },
  {
   "cell_type": "code",
   "execution_count": 12,
   "metadata": {},
   "outputs": [],
   "source": [
    "def vgg_model():\n",
    "    base_model = VGG16(include_top=False, weights='imagenet', input_shape=(224,224,3))\n",
    "    x = base_model.output\n",
    "    x = GlobalAveragePooling2D()(x)\n",
    "    x = Dense(512, activation='relu')(x)\n",
    "    x = Dense(256, activation='relu')(x)\n",
    "    predictions = Dense(10, activation='softmax')(x)\n",
    "    model = Model(inputs=base_model.input, outputs=predictions)\n",
    "    return model"
   ]
  },
  {
   "cell_type": "code",
   "execution_count": 13,
   "metadata": {},
   "outputs": [],
   "source": [
    "def resnet():\n",
    "    base_model = ResNet50(include_top=False, weights='imagenet')\n",
    "    x = base_model.output\n",
    "    x = GlobalAveragePooling2D()(x)\n",
    "    x = Dense(1024, activation='relu')(x)\n",
    "    x = Dropout(0.4)(x)\n",
    "    x = Dense(1024, activation='relu')(x)\n",
    "    x = Dropout(0.4)(x)\n",
    "    predictions = Dense(10, activation='softmax')(x)\n",
    "    model = Model(inputs=base_model.input, outputs=predictions)\n",
    "    adam = optimizers.Adam(lr=0.0008, beta_1=0.9, beta_2=0.999, epsilon=1e-08)\n",
    "    \n",
    "    for layer in model.layers[:4]:\n",
    "        layer.trainable = False\n",
    "    for layer in model.layers[4:]:\n",
    "        layer.trainable = True\n",
    "    \n",
    "    #for i, layer in enumerate(model.layers):\n",
    "    #    print(i, layer.name)\n",
    "    model.compile(optimizer=adam, loss='categorical_crossentropy', metrics=['accuracy'])\n",
    "    return model"
   ]
  },
  {
   "cell_type": "code",
   "execution_count": 14,
   "metadata": {},
   "outputs": [],
   "source": [
    "def fit_and_in_fold(X_raw, y_raw, model, folds, epochs, batch_size, modelname=''):\n",
    "    kf = KFold(folds, shuffle=True)\n",
    "\n",
    "    if not os.path.isdir('cache'):\n",
    "        os.mkdir('cache')\n",
    "    \n",
    "    for train_idx, val_idx in kf.split(unique_drivers):\n",
    "        fold=1\n",
    "        driver_val = [unique_drivers[a] for a in val_idx]\n",
    "        X_train, y_train, X_val, y_val = train_val_split(driver_val, driver_id, X_raw, y_raw)\n",
    "        \n",
    "        res = resnet()\n",
    "        res.fit(x=X_train, y=y_train, batch_size=batch_size, epochs=epochs, verbose=1, validation_data=(X_val, y_val), shuffle=True)\n",
    "\n",
    "        json_string = model.to_json()\n",
    "        with open(os.path.join('cache',modelname + str(fold) + '.json'), 'w') as f:\n",
    "            f.write(json_string)\n",
    "        weight = model.save_weights(os.path.join('cache', modelname + str(fold) + '.h5'), overwrite=True)\n",
    "        fold+=1\n",
    "\n",
    "        "
   ]
  },
  {
   "cell_type": "code",
   "execution_count": null,
   "metadata": {},
   "outputs": [],
   "source": [
    "def predict_with_generator(generator, ):\n",
    "    predicts=[]\n",
    "    ge = load_test_generator(64, img_rows=224, img_cols=224)\n",
    "    \n",
    "    predict = model.predict_generator(generator=ge, steps=1246, verbose=1)\n",
    "    predicts.append[predict]"
   ]
  },
  {
   "cell_type": "code",
   "execution_count": 14,
   "metadata": {
    "scrolled": true
   },
   "outputs": [
    {
     "name": "stdout",
     "output_type": "stream",
     "text": [
      "Read drivers data\n",
      "Read train images\n",
      "Load folder c0\n",
      "Load folder c1\n",
      "Load folder c2\n",
      "Load folder c3\n",
      "Load folder c4\n",
      "Load folder c5\n",
      "Load folder c6\n",
      "Load folder c7\n",
      "Load folder c8\n",
      "Load folder c9\n",
      "Unique drivers: 26\n",
      "['p002', 'p012', 'p014', 'p015', 'p016', 'p021', 'p022', 'p024', 'p026', 'p035', 'p039', 'p041', 'p042', 'p045', 'p047', 'p049', 'p050', 'p051', 'p052', 'p056', 'p061', 'p064', 'p066', 'p072', 'p075', 'p081']\n"
     ]
    }
   ],
   "source": [
    "X_raw, y_raw, driver_id, unique_drivers = load_train(224, 224)"
   ]
  },
  {
   "cell_type": "code",
   "execution_count": 15,
   "metadata": {},
   "outputs": [],
   "source": [
    "res = resnet()"
   ]
  },
  {
   "cell_type": "code",
   "execution_count": 17,
   "metadata": {},
   "outputs": [],
   "source": [
    "ge = load_test_generator(16, img_rows=224, img_cols=224)"
   ]
  },
  {
   "cell_type": "code",
   "execution_count": null,
   "metadata": {},
   "outputs": [],
   "source": [
    "#steps=1246"
   ]
  },
  {
   "cell_type": "code",
   "execution_count": 18,
   "metadata": {},
   "outputs": [
    {
     "name": "stdout",
     "output_type": "stream",
     "text": [
      "Read test images\n",
      " 40/120 [=========>....................] - ETA: 6:35"
     ]
    },
    {
     "ename": "ResourceExhaustedError",
     "evalue": "OOM when allocating tensor with shape[656,256,55,55] and type float on /job:localhost/replica:0/task:0/device:GPU:0 by allocator GPU_0_bfc\n\t [[Node: bn2a_branch2c/FusedBatchNorm = FusedBatchNorm[T=DT_FLOAT, data_format=\"NHWC\", epsilon=0.001, is_training=true, _device=\"/job:localhost/replica:0/task:0/device:GPU:0\"](res2a_branch2c/BiasAdd, bn2a_branch2c/gamma/read, bn2a_branch2c/beta/read, bn5c_branch2a/Const_4, bn5c_branch2a/Const_4)]]\nHint: If you want to see a list of allocated tensors when OOM happens, add report_tensor_allocations_upon_oom to RunOptions for current allocation info.\n\n\t [[Node: dense_3/Softmax/_2365 = _Recv[client_terminated=false, recv_device=\"/job:localhost/replica:0/task:0/device:CPU:0\", send_device=\"/job:localhost/replica:0/task:0/device:GPU:0\", send_device_incarnation=1, tensor_name=\"edge_2711_dense_3/Softmax\", tensor_type=DT_FLOAT, _device=\"/job:localhost/replica:0/task:0/device:CPU:0\"]()]]\nHint: If you want to see a list of allocated tensors when OOM happens, add report_tensor_allocations_upon_oom to RunOptions for current allocation info.\n\n\nCaused by op 'bn2a_branch2c/FusedBatchNorm', defined at:\n  File \"/home/ubuntu/anaconda3/envs/tensorflow_p36/lib/python3.6/runpy.py\", line 193, in _run_module_as_main\n    \"__main__\", mod_spec)\n  File \"/home/ubuntu/anaconda3/envs/tensorflow_p36/lib/python3.6/runpy.py\", line 85, in _run_code\n    exec(code, run_globals)\n  File \"/home/ubuntu/anaconda3/envs/tensorflow_p36/lib/python3.6/site-packages/ipykernel/__main__.py\", line 3, in <module>\n    app.launch_new_instance()\n  File \"/home/ubuntu/anaconda3/envs/tensorflow_p36/lib/python3.6/site-packages/traitlets/config/application.py\", line 658, in launch_instance\n    app.start()\n  File \"/home/ubuntu/anaconda3/envs/tensorflow_p36/lib/python3.6/site-packages/ipykernel/kernelapp.py\", line 486, in start\n    self.io_loop.start()\n  File \"/home/ubuntu/anaconda3/envs/tensorflow_p36/lib/python3.6/site-packages/tornado/platform/asyncio.py\", line 112, in start\n    self.asyncio_loop.run_forever()\n  File \"/home/ubuntu/anaconda3/envs/tensorflow_p36/lib/python3.6/asyncio/base_events.py\", line 421, in run_forever\n    self._run_once()\n  File \"/home/ubuntu/anaconda3/envs/tensorflow_p36/lib/python3.6/asyncio/base_events.py\", line 1431, in _run_once\n    handle._run()\n  File \"/home/ubuntu/anaconda3/envs/tensorflow_p36/lib/python3.6/asyncio/events.py\", line 145, in _run\n    self._callback(*self._args)\n  File \"/home/ubuntu/anaconda3/envs/tensorflow_p36/lib/python3.6/site-packages/tornado/platform/asyncio.py\", line 102, in _handle_events\n    handler_func(fileobj, events)\n  File \"/home/ubuntu/anaconda3/envs/tensorflow_p36/lib/python3.6/site-packages/tornado/stack_context.py\", line 276, in null_wrapper\n    return fn(*args, **kwargs)\n  File \"/home/ubuntu/anaconda3/envs/tensorflow_p36/lib/python3.6/site-packages/zmq/eventloop/zmqstream.py\", line 450, in _handle_events\n    self._handle_recv()\n  File \"/home/ubuntu/anaconda3/envs/tensorflow_p36/lib/python3.6/site-packages/zmq/eventloop/zmqstream.py\", line 480, in _handle_recv\n    self._run_callback(callback, msg)\n  File \"/home/ubuntu/anaconda3/envs/tensorflow_p36/lib/python3.6/site-packages/zmq/eventloop/zmqstream.py\", line 432, in _run_callback\n    callback(*args, **kwargs)\n  File \"/home/ubuntu/anaconda3/envs/tensorflow_p36/lib/python3.6/site-packages/tornado/stack_context.py\", line 276, in null_wrapper\n    return fn(*args, **kwargs)\n  File \"/home/ubuntu/anaconda3/envs/tensorflow_p36/lib/python3.6/site-packages/ipykernel/kernelbase.py\", line 283, in dispatcher\n    return self.dispatch_shell(stream, msg)\n  File \"/home/ubuntu/anaconda3/envs/tensorflow_p36/lib/python3.6/site-packages/ipykernel/kernelbase.py\", line 233, in dispatch_shell\n    handler(stream, idents, msg)\n  File \"/home/ubuntu/anaconda3/envs/tensorflow_p36/lib/python3.6/site-packages/ipykernel/kernelbase.py\", line 399, in execute_request\n    user_expressions, allow_stdin)\n  File \"/home/ubuntu/anaconda3/envs/tensorflow_p36/lib/python3.6/site-packages/ipykernel/ipkernel.py\", line 208, in do_execute\n    res = shell.run_cell(code, store_history=store_history, silent=silent)\n  File \"/home/ubuntu/anaconda3/envs/tensorflow_p36/lib/python3.6/site-packages/ipykernel/zmqshell.py\", line 537, in run_cell\n    return super(ZMQInteractiveShell, self).run_cell(*args, **kwargs)\n  File \"/home/ubuntu/anaconda3/envs/tensorflow_p36/lib/python3.6/site-packages/IPython/core/interactiveshell.py\", line 2728, in run_cell\n    interactivity=interactivity, compiler=compiler, result=result)\n  File \"/home/ubuntu/anaconda3/envs/tensorflow_p36/lib/python3.6/site-packages/IPython/core/interactiveshell.py\", line 2850, in run_ast_nodes\n    if self.run_code(code, result):\n  File \"/home/ubuntu/anaconda3/envs/tensorflow_p36/lib/python3.6/site-packages/IPython/core/interactiveshell.py\", line 2910, in run_code\n    exec(code_obj, self.user_global_ns, self.user_ns)\n  File \"<ipython-input-15-981eb636afa2>\", line 1, in <module>\n    res = resnet()\n  File \"<ipython-input-13-5071c12aa77e>\", line 2, in resnet\n    base_model = ResNet50(include_top=False, weights='imagenet')\n  File \"/home/ubuntu/anaconda3/envs/tensorflow_p36/lib/python3.6/site-packages/keras/applications/resnet50.py\", line 219, in ResNet50\n    x = conv_block(x, 3, [64, 64, 256], stage=2, block='a', strides=(1, 1))\n  File \"/home/ubuntu/anaconda3/envs/tensorflow_p36/lib/python3.6/site-packages/keras/applications/resnet50.py\", line 118, in conv_block\n    x = BatchNormalization(axis=bn_axis, name=bn_name_base + '2c')(x)\n  File \"/home/ubuntu/anaconda3/envs/tensorflow_p36/lib/python3.6/site-packages/keras/engine/topology.py\", line 619, in __call__\n    output = self.call(inputs, **kwargs)\n  File \"/home/ubuntu/anaconda3/envs/tensorflow_p36/lib/python3.6/site-packages/keras/layers/normalization.py\", line 181, in call\n    epsilon=self.epsilon)\n  File \"/home/ubuntu/anaconda3/envs/tensorflow_p36/lib/python3.6/site-packages/keras/backend/tensorflow_backend.py\", line 1827, in normalize_batch_in_training\n    epsilon=epsilon)\n  File \"/home/ubuntu/anaconda3/envs/tensorflow_p36/lib/python3.6/site-packages/keras/backend/tensorflow_backend.py\", line 1802, in _fused_normalize_batch_in_training\n    data_format=tf_data_format)\n  File \"/home/ubuntu/anaconda3/envs/tensorflow_p36/lib/python3.6/site-packages/tensorflow/python/ops/nn_impl.py\", line 906, in fused_batch_norm\n    name=name)\n  File \"/home/ubuntu/anaconda3/envs/tensorflow_p36/lib/python3.6/site-packages/tensorflow/python/ops/gen_nn_ops.py\", line 2224, in _fused_batch_norm\n    is_training=is_training, name=name)\n  File \"/home/ubuntu/anaconda3/envs/tensorflow_p36/lib/python3.6/site-packages/tensorflow/python/framework/op_def_library.py\", line 787, in _apply_op_helper\n    op_def=op_def)\n  File \"/home/ubuntu/anaconda3/envs/tensorflow_p36/lib/python3.6/site-packages/tensorflow/python/framework/ops.py\", line 3271, in create_op\n    op_def=op_def)\n  File \"/home/ubuntu/anaconda3/envs/tensorflow_p36/lib/python3.6/site-packages/tensorflow/python/framework/ops.py\", line 1650, in __init__\n    self._traceback = self._graph._extract_stack()  # pylint: disable=protected-access\n\nResourceExhaustedError (see above for traceback): OOM when allocating tensor with shape[656,256,55,55] and type float on /job:localhost/replica:0/task:0/device:GPU:0 by allocator GPU_0_bfc\n\t [[Node: bn2a_branch2c/FusedBatchNorm = FusedBatchNorm[T=DT_FLOAT, data_format=\"NHWC\", epsilon=0.001, is_training=true, _device=\"/job:localhost/replica:0/task:0/device:GPU:0\"](res2a_branch2c/BiasAdd, bn2a_branch2c/gamma/read, bn2a_branch2c/beta/read, bn5c_branch2a/Const_4, bn5c_branch2a/Const_4)]]\nHint: If you want to see a list of allocated tensors when OOM happens, add report_tensor_allocations_upon_oom to RunOptions for current allocation info.\n\n\t [[Node: dense_3/Softmax/_2365 = _Recv[client_terminated=false, recv_device=\"/job:localhost/replica:0/task:0/device:CPU:0\", send_device=\"/job:localhost/replica:0/task:0/device:GPU:0\", send_device_incarnation=1, tensor_name=\"edge_2711_dense_3/Softmax\", tensor_type=DT_FLOAT, _device=\"/job:localhost/replica:0/task:0/device:CPU:0\"]()]]\nHint: If you want to see a list of allocated tensors when OOM happens, add report_tensor_allocations_upon_oom to RunOptions for current allocation info.\n\n",
     "output_type": "error",
     "traceback": [
      "\u001b[0;31m---------------------------------------------------------------------------\u001b[0m",
      "\u001b[0;31mResourceExhaustedError\u001b[0m                    Traceback (most recent call last)",
      "\u001b[0;32m~/anaconda3/envs/tensorflow_p36/lib/python3.6/site-packages/tensorflow/python/client/session.py\u001b[0m in \u001b[0;36m_do_call\u001b[0;34m(self, fn, *args)\u001b[0m\n\u001b[1;32m   1360\u001b[0m     \u001b[0;32mtry\u001b[0m\u001b[0;34m:\u001b[0m\u001b[0;34m\u001b[0m\u001b[0m\n\u001b[0;32m-> 1361\u001b[0;31m       \u001b[0;32mreturn\u001b[0m \u001b[0mfn\u001b[0m\u001b[0;34m(\u001b[0m\u001b[0;34m*\u001b[0m\u001b[0margs\u001b[0m\u001b[0;34m)\u001b[0m\u001b[0;34m\u001b[0m\u001b[0m\n\u001b[0m\u001b[1;32m   1362\u001b[0m     \u001b[0;32mexcept\u001b[0m \u001b[0merrors\u001b[0m\u001b[0;34m.\u001b[0m\u001b[0mOpError\u001b[0m \u001b[0;32mas\u001b[0m \u001b[0me\u001b[0m\u001b[0;34m:\u001b[0m\u001b[0;34m\u001b[0m\u001b[0m\n",
      "\u001b[0;32m~/anaconda3/envs/tensorflow_p36/lib/python3.6/site-packages/tensorflow/python/client/session.py\u001b[0m in \u001b[0;36m_run_fn\u001b[0;34m(session, feed_dict, fetch_list, target_list, options, run_metadata)\u001b[0m\n\u001b[1;32m   1339\u001b[0m           return tf_session.TF_Run(session, options, feed_dict, fetch_list,\n\u001b[0;32m-> 1340\u001b[0;31m                                    target_list, status, run_metadata)\n\u001b[0m\u001b[1;32m   1341\u001b[0m \u001b[0;34m\u001b[0m\u001b[0m\n",
      "\u001b[0;32m~/anaconda3/envs/tensorflow_p36/lib/python3.6/site-packages/tensorflow/python/framework/errors_impl.py\u001b[0m in \u001b[0;36m__exit__\u001b[0;34m(self, type_arg, value_arg, traceback_arg)\u001b[0m\n\u001b[1;32m    515\u001b[0m             \u001b[0mcompat\u001b[0m\u001b[0;34m.\u001b[0m\u001b[0mas_text\u001b[0m\u001b[0;34m(\u001b[0m\u001b[0mc_api\u001b[0m\u001b[0;34m.\u001b[0m\u001b[0mTF_Message\u001b[0m\u001b[0;34m(\u001b[0m\u001b[0mself\u001b[0m\u001b[0;34m.\u001b[0m\u001b[0mstatus\u001b[0m\u001b[0;34m.\u001b[0m\u001b[0mstatus\u001b[0m\u001b[0;34m)\u001b[0m\u001b[0;34m)\u001b[0m\u001b[0;34m,\u001b[0m\u001b[0;34m\u001b[0m\u001b[0m\n\u001b[0;32m--> 516\u001b[0;31m             c_api.TF_GetCode(self.status.status))\n\u001b[0m\u001b[1;32m    517\u001b[0m     \u001b[0;31m# Delete the underlying status object from memory otherwise it stays alive\u001b[0m\u001b[0;34m\u001b[0m\u001b[0;34m\u001b[0m\u001b[0m\n",
      "\u001b[0;31mResourceExhaustedError\u001b[0m: OOM when allocating tensor with shape[656,256,55,55] and type float on /job:localhost/replica:0/task:0/device:GPU:0 by allocator GPU_0_bfc\n\t [[Node: bn2a_branch2c/FusedBatchNorm = FusedBatchNorm[T=DT_FLOAT, data_format=\"NHWC\", epsilon=0.001, is_training=true, _device=\"/job:localhost/replica:0/task:0/device:GPU:0\"](res2a_branch2c/BiasAdd, bn2a_branch2c/gamma/read, bn2a_branch2c/beta/read, bn5c_branch2a/Const_4, bn5c_branch2a/Const_4)]]\nHint: If you want to see a list of allocated tensors when OOM happens, add report_tensor_allocations_upon_oom to RunOptions for current allocation info.\n\n\t [[Node: dense_3/Softmax/_2365 = _Recv[client_terminated=false, recv_device=\"/job:localhost/replica:0/task:0/device:CPU:0\", send_device=\"/job:localhost/replica:0/task:0/device:GPU:0\", send_device_incarnation=1, tensor_name=\"edge_2711_dense_3/Softmax\", tensor_type=DT_FLOAT, _device=\"/job:localhost/replica:0/task:0/device:CPU:0\"]()]]\nHint: If you want to see a list of allocated tensors when OOM happens, add report_tensor_allocations_upon_oom to RunOptions for current allocation info.\n",
      "\nDuring handling of the above exception, another exception occurred:\n",
      "\u001b[0;31mResourceExhaustedError\u001b[0m                    Traceback (most recent call last)",
      "\u001b[0;32m<ipython-input-18-e9b1f1329fa9>\u001b[0m in \u001b[0;36m<module>\u001b[0;34m()\u001b[0m\n\u001b[0;32m----> 1\u001b[0;31m \u001b[0mb\u001b[0m \u001b[0;34m=\u001b[0m \u001b[0mres\u001b[0m\u001b[0;34m.\u001b[0m\u001b[0mpredict_generator\u001b[0m\u001b[0;34m(\u001b[0m\u001b[0mgenerator\u001b[0m\u001b[0;34m=\u001b[0m\u001b[0mge\u001b[0m\u001b[0;34m,\u001b[0m \u001b[0msteps\u001b[0m\u001b[0;34m=\u001b[0m\u001b[0;36m120\u001b[0m\u001b[0;34m,\u001b[0m \u001b[0mverbose\u001b[0m\u001b[0;34m=\u001b[0m\u001b[0;36m1\u001b[0m\u001b[0;34m)\u001b[0m\u001b[0;34m\u001b[0m\u001b[0m\n\u001b[0m",
      "\u001b[0;32m~/anaconda3/envs/tensorflow_p36/lib/python3.6/site-packages/keras/legacy/interfaces.py\u001b[0m in \u001b[0;36mwrapper\u001b[0;34m(*args, **kwargs)\u001b[0m\n\u001b[1;32m     89\u001b[0m                 warnings.warn('Update your `' + object_name +\n\u001b[1;32m     90\u001b[0m                               '` call to the Keras 2 API: ' + signature, stacklevel=2)\n\u001b[0;32m---> 91\u001b[0;31m             \u001b[0;32mreturn\u001b[0m \u001b[0mfunc\u001b[0m\u001b[0;34m(\u001b[0m\u001b[0;34m*\u001b[0m\u001b[0margs\u001b[0m\u001b[0;34m,\u001b[0m \u001b[0;34m**\u001b[0m\u001b[0mkwargs\u001b[0m\u001b[0;34m)\u001b[0m\u001b[0;34m\u001b[0m\u001b[0m\n\u001b[0m\u001b[1;32m     92\u001b[0m         \u001b[0mwrapper\u001b[0m\u001b[0;34m.\u001b[0m\u001b[0m_original_function\u001b[0m \u001b[0;34m=\u001b[0m \u001b[0mfunc\u001b[0m\u001b[0;34m\u001b[0m\u001b[0m\n\u001b[1;32m     93\u001b[0m         \u001b[0;32mreturn\u001b[0m \u001b[0mwrapper\u001b[0m\u001b[0;34m\u001b[0m\u001b[0m\n",
      "\u001b[0;32m~/anaconda3/envs/tensorflow_p36/lib/python3.6/site-packages/keras/engine/training.py\u001b[0m in \u001b[0;36mpredict_generator\u001b[0;34m(self, generator, steps, max_queue_size, workers, use_multiprocessing, verbose)\u001b[0m\n\u001b[1;32m   2508\u001b[0m                     \u001b[0mx\u001b[0m \u001b[0;34m=\u001b[0m \u001b[0mgenerator_output\u001b[0m\u001b[0;34m\u001b[0m\u001b[0m\n\u001b[1;32m   2509\u001b[0m \u001b[0;34m\u001b[0m\u001b[0m\n\u001b[0;32m-> 2510\u001b[0;31m                 \u001b[0mouts\u001b[0m \u001b[0;34m=\u001b[0m \u001b[0mself\u001b[0m\u001b[0;34m.\u001b[0m\u001b[0mpredict_on_batch\u001b[0m\u001b[0;34m(\u001b[0m\u001b[0mx\u001b[0m\u001b[0;34m)\u001b[0m\u001b[0;34m\u001b[0m\u001b[0m\n\u001b[0m\u001b[1;32m   2511\u001b[0m                 \u001b[0;32mif\u001b[0m \u001b[0;32mnot\u001b[0m \u001b[0misinstance\u001b[0m\u001b[0;34m(\u001b[0m\u001b[0mouts\u001b[0m\u001b[0;34m,\u001b[0m \u001b[0mlist\u001b[0m\u001b[0;34m)\u001b[0m\u001b[0;34m:\u001b[0m\u001b[0;34m\u001b[0m\u001b[0m\n\u001b[1;32m   2512\u001b[0m                     \u001b[0mouts\u001b[0m \u001b[0;34m=\u001b[0m \u001b[0;34m[\u001b[0m\u001b[0mouts\u001b[0m\u001b[0;34m]\u001b[0m\u001b[0;34m\u001b[0m\u001b[0m\n",
      "\u001b[0;32m~/anaconda3/envs/tensorflow_p36/lib/python3.6/site-packages/keras/engine/training.py\u001b[0m in \u001b[0;36mpredict_on_batch\u001b[0;34m(self, x)\u001b[0m\n\u001b[1;32m   1943\u001b[0m             \u001b[0mins\u001b[0m \u001b[0;34m=\u001b[0m \u001b[0mx\u001b[0m\u001b[0;34m\u001b[0m\u001b[0m\n\u001b[1;32m   1944\u001b[0m         \u001b[0mself\u001b[0m\u001b[0;34m.\u001b[0m\u001b[0m_make_predict_function\u001b[0m\u001b[0;34m(\u001b[0m\u001b[0;34m)\u001b[0m\u001b[0;34m\u001b[0m\u001b[0m\n\u001b[0;32m-> 1945\u001b[0;31m         \u001b[0moutputs\u001b[0m \u001b[0;34m=\u001b[0m \u001b[0mself\u001b[0m\u001b[0;34m.\u001b[0m\u001b[0mpredict_function\u001b[0m\u001b[0;34m(\u001b[0m\u001b[0mins\u001b[0m\u001b[0;34m)\u001b[0m\u001b[0;34m\u001b[0m\u001b[0m\n\u001b[0m\u001b[1;32m   1946\u001b[0m         \u001b[0;32mif\u001b[0m \u001b[0mlen\u001b[0m\u001b[0;34m(\u001b[0m\u001b[0moutputs\u001b[0m\u001b[0;34m)\u001b[0m \u001b[0;34m==\u001b[0m \u001b[0;36m1\u001b[0m\u001b[0;34m:\u001b[0m\u001b[0;34m\u001b[0m\u001b[0m\n\u001b[1;32m   1947\u001b[0m             \u001b[0;32mreturn\u001b[0m \u001b[0moutputs\u001b[0m\u001b[0;34m[\u001b[0m\u001b[0;36m0\u001b[0m\u001b[0;34m]\u001b[0m\u001b[0;34m\u001b[0m\u001b[0m\n",
      "\u001b[0;32m~/anaconda3/envs/tensorflow_p36/lib/python3.6/site-packages/keras/backend/tensorflow_backend.py\u001b[0m in \u001b[0;36m__call__\u001b[0;34m(self, inputs)\u001b[0m\n\u001b[1;32m   2476\u001b[0m         \u001b[0msession\u001b[0m \u001b[0;34m=\u001b[0m \u001b[0mget_session\u001b[0m\u001b[0;34m(\u001b[0m\u001b[0;34m)\u001b[0m\u001b[0;34m\u001b[0m\u001b[0m\n\u001b[1;32m   2477\u001b[0m         updated = session.run(fetches=fetches, feed_dict=feed_dict,\n\u001b[0;32m-> 2478\u001b[0;31m                               **self.session_kwargs)\n\u001b[0m\u001b[1;32m   2479\u001b[0m         \u001b[0;32mreturn\u001b[0m \u001b[0mupdated\u001b[0m\u001b[0;34m[\u001b[0m\u001b[0;34m:\u001b[0m\u001b[0mlen\u001b[0m\u001b[0;34m(\u001b[0m\u001b[0mself\u001b[0m\u001b[0;34m.\u001b[0m\u001b[0moutputs\u001b[0m\u001b[0;34m)\u001b[0m\u001b[0;34m]\u001b[0m\u001b[0;34m\u001b[0m\u001b[0m\n\u001b[1;32m   2480\u001b[0m \u001b[0;34m\u001b[0m\u001b[0m\n",
      "\u001b[0;32m~/anaconda3/envs/tensorflow_p36/lib/python3.6/site-packages/tensorflow/python/client/session.py\u001b[0m in \u001b[0;36mrun\u001b[0;34m(self, fetches, feed_dict, options, run_metadata)\u001b[0m\n\u001b[1;32m    903\u001b[0m     \u001b[0;32mtry\u001b[0m\u001b[0;34m:\u001b[0m\u001b[0;34m\u001b[0m\u001b[0m\n\u001b[1;32m    904\u001b[0m       result = self._run(None, fetches, feed_dict, options_ptr,\n\u001b[0;32m--> 905\u001b[0;31m                          run_metadata_ptr)\n\u001b[0m\u001b[1;32m    906\u001b[0m       \u001b[0;32mif\u001b[0m \u001b[0mrun_metadata\u001b[0m\u001b[0;34m:\u001b[0m\u001b[0;34m\u001b[0m\u001b[0m\n\u001b[1;32m    907\u001b[0m         \u001b[0mproto_data\u001b[0m \u001b[0;34m=\u001b[0m \u001b[0mtf_session\u001b[0m\u001b[0;34m.\u001b[0m\u001b[0mTF_GetBuffer\u001b[0m\u001b[0;34m(\u001b[0m\u001b[0mrun_metadata_ptr\u001b[0m\u001b[0;34m)\u001b[0m\u001b[0;34m\u001b[0m\u001b[0m\n",
      "\u001b[0;32m~/anaconda3/envs/tensorflow_p36/lib/python3.6/site-packages/tensorflow/python/client/session.py\u001b[0m in \u001b[0;36m_run\u001b[0;34m(self, handle, fetches, feed_dict, options, run_metadata)\u001b[0m\n\u001b[1;32m   1135\u001b[0m     \u001b[0;32mif\u001b[0m \u001b[0mfinal_fetches\u001b[0m \u001b[0;32mor\u001b[0m \u001b[0mfinal_targets\u001b[0m \u001b[0;32mor\u001b[0m \u001b[0;34m(\u001b[0m\u001b[0mhandle\u001b[0m \u001b[0;32mand\u001b[0m \u001b[0mfeed_dict_tensor\u001b[0m\u001b[0;34m)\u001b[0m\u001b[0;34m:\u001b[0m\u001b[0;34m\u001b[0m\u001b[0m\n\u001b[1;32m   1136\u001b[0m       results = self._do_run(handle, final_targets, final_fetches,\n\u001b[0;32m-> 1137\u001b[0;31m                              feed_dict_tensor, options, run_metadata)\n\u001b[0m\u001b[1;32m   1138\u001b[0m     \u001b[0;32melse\u001b[0m\u001b[0;34m:\u001b[0m\u001b[0;34m\u001b[0m\u001b[0m\n\u001b[1;32m   1139\u001b[0m       \u001b[0mresults\u001b[0m \u001b[0;34m=\u001b[0m \u001b[0;34m[\u001b[0m\u001b[0;34m]\u001b[0m\u001b[0;34m\u001b[0m\u001b[0m\n",
      "\u001b[0;32m~/anaconda3/envs/tensorflow_p36/lib/python3.6/site-packages/tensorflow/python/client/session.py\u001b[0m in \u001b[0;36m_do_run\u001b[0;34m(self, handle, target_list, fetch_list, feed_dict, options, run_metadata)\u001b[0m\n\u001b[1;32m   1353\u001b[0m     \u001b[0;32mif\u001b[0m \u001b[0mhandle\u001b[0m \u001b[0;32mis\u001b[0m \u001b[0;32mNone\u001b[0m\u001b[0;34m:\u001b[0m\u001b[0;34m\u001b[0m\u001b[0m\n\u001b[1;32m   1354\u001b[0m       return self._do_call(_run_fn, self._session, feeds, fetches, targets,\n\u001b[0;32m-> 1355\u001b[0;31m                            options, run_metadata)\n\u001b[0m\u001b[1;32m   1356\u001b[0m     \u001b[0;32melse\u001b[0m\u001b[0;34m:\u001b[0m\u001b[0;34m\u001b[0m\u001b[0m\n\u001b[1;32m   1357\u001b[0m       \u001b[0;32mreturn\u001b[0m \u001b[0mself\u001b[0m\u001b[0;34m.\u001b[0m\u001b[0m_do_call\u001b[0m\u001b[0;34m(\u001b[0m\u001b[0m_prun_fn\u001b[0m\u001b[0;34m,\u001b[0m \u001b[0mself\u001b[0m\u001b[0;34m.\u001b[0m\u001b[0m_session\u001b[0m\u001b[0;34m,\u001b[0m \u001b[0mhandle\u001b[0m\u001b[0;34m,\u001b[0m \u001b[0mfeeds\u001b[0m\u001b[0;34m,\u001b[0m \u001b[0mfetches\u001b[0m\u001b[0;34m)\u001b[0m\u001b[0;34m\u001b[0m\u001b[0m\n",
      "\u001b[0;32m~/anaconda3/envs/tensorflow_p36/lib/python3.6/site-packages/tensorflow/python/client/session.py\u001b[0m in \u001b[0;36m_do_call\u001b[0;34m(self, fn, *args)\u001b[0m\n\u001b[1;32m   1372\u001b[0m         \u001b[0;32mexcept\u001b[0m \u001b[0mKeyError\u001b[0m\u001b[0;34m:\u001b[0m\u001b[0;34m\u001b[0m\u001b[0m\n\u001b[1;32m   1373\u001b[0m           \u001b[0;32mpass\u001b[0m\u001b[0;34m\u001b[0m\u001b[0m\n\u001b[0;32m-> 1374\u001b[0;31m       \u001b[0;32mraise\u001b[0m \u001b[0mtype\u001b[0m\u001b[0;34m(\u001b[0m\u001b[0me\u001b[0m\u001b[0;34m)\u001b[0m\u001b[0;34m(\u001b[0m\u001b[0mnode_def\u001b[0m\u001b[0;34m,\u001b[0m \u001b[0mop\u001b[0m\u001b[0;34m,\u001b[0m \u001b[0mmessage\u001b[0m\u001b[0;34m)\u001b[0m\u001b[0;34m\u001b[0m\u001b[0m\n\u001b[0m\u001b[1;32m   1375\u001b[0m \u001b[0;34m\u001b[0m\u001b[0m\n\u001b[1;32m   1376\u001b[0m   \u001b[0;32mdef\u001b[0m \u001b[0m_extend_graph\u001b[0m\u001b[0;34m(\u001b[0m\u001b[0mself\u001b[0m\u001b[0;34m)\u001b[0m\u001b[0;34m:\u001b[0m\u001b[0;34m\u001b[0m\u001b[0m\n",
      "\u001b[0;31mResourceExhaustedError\u001b[0m: OOM when allocating tensor with shape[656,256,55,55] and type float on /job:localhost/replica:0/task:0/device:GPU:0 by allocator GPU_0_bfc\n\t [[Node: bn2a_branch2c/FusedBatchNorm = FusedBatchNorm[T=DT_FLOAT, data_format=\"NHWC\", epsilon=0.001, is_training=true, _device=\"/job:localhost/replica:0/task:0/device:GPU:0\"](res2a_branch2c/BiasAdd, bn2a_branch2c/gamma/read, bn2a_branch2c/beta/read, bn5c_branch2a/Const_4, bn5c_branch2a/Const_4)]]\nHint: If you want to see a list of allocated tensors when OOM happens, add report_tensor_allocations_upon_oom to RunOptions for current allocation info.\n\n\t [[Node: dense_3/Softmax/_2365 = _Recv[client_terminated=false, recv_device=\"/job:localhost/replica:0/task:0/device:CPU:0\", send_device=\"/job:localhost/replica:0/task:0/device:GPU:0\", send_device_incarnation=1, tensor_name=\"edge_2711_dense_3/Softmax\", tensor_type=DT_FLOAT, _device=\"/job:localhost/replica:0/task:0/device:CPU:0\"]()]]\nHint: If you want to see a list of allocated tensors when OOM happens, add report_tensor_allocations_upon_oom to RunOptions for current allocation info.\n\n\nCaused by op 'bn2a_branch2c/FusedBatchNorm', defined at:\n  File \"/home/ubuntu/anaconda3/envs/tensorflow_p36/lib/python3.6/runpy.py\", line 193, in _run_module_as_main\n    \"__main__\", mod_spec)\n  File \"/home/ubuntu/anaconda3/envs/tensorflow_p36/lib/python3.6/runpy.py\", line 85, in _run_code\n    exec(code, run_globals)\n  File \"/home/ubuntu/anaconda3/envs/tensorflow_p36/lib/python3.6/site-packages/ipykernel/__main__.py\", line 3, in <module>\n    app.launch_new_instance()\n  File \"/home/ubuntu/anaconda3/envs/tensorflow_p36/lib/python3.6/site-packages/traitlets/config/application.py\", line 658, in launch_instance\n    app.start()\n  File \"/home/ubuntu/anaconda3/envs/tensorflow_p36/lib/python3.6/site-packages/ipykernel/kernelapp.py\", line 486, in start\n    self.io_loop.start()\n  File \"/home/ubuntu/anaconda3/envs/tensorflow_p36/lib/python3.6/site-packages/tornado/platform/asyncio.py\", line 112, in start\n    self.asyncio_loop.run_forever()\n  File \"/home/ubuntu/anaconda3/envs/tensorflow_p36/lib/python3.6/asyncio/base_events.py\", line 421, in run_forever\n    self._run_once()\n  File \"/home/ubuntu/anaconda3/envs/tensorflow_p36/lib/python3.6/asyncio/base_events.py\", line 1431, in _run_once\n    handle._run()\n  File \"/home/ubuntu/anaconda3/envs/tensorflow_p36/lib/python3.6/asyncio/events.py\", line 145, in _run\n    self._callback(*self._args)\n  File \"/home/ubuntu/anaconda3/envs/tensorflow_p36/lib/python3.6/site-packages/tornado/platform/asyncio.py\", line 102, in _handle_events\n    handler_func(fileobj, events)\n  File \"/home/ubuntu/anaconda3/envs/tensorflow_p36/lib/python3.6/site-packages/tornado/stack_context.py\", line 276, in null_wrapper\n    return fn(*args, **kwargs)\n  File \"/home/ubuntu/anaconda3/envs/tensorflow_p36/lib/python3.6/site-packages/zmq/eventloop/zmqstream.py\", line 450, in _handle_events\n    self._handle_recv()\n  File \"/home/ubuntu/anaconda3/envs/tensorflow_p36/lib/python3.6/site-packages/zmq/eventloop/zmqstream.py\", line 480, in _handle_recv\n    self._run_callback(callback, msg)\n  File \"/home/ubuntu/anaconda3/envs/tensorflow_p36/lib/python3.6/site-packages/zmq/eventloop/zmqstream.py\", line 432, in _run_callback\n    callback(*args, **kwargs)\n  File \"/home/ubuntu/anaconda3/envs/tensorflow_p36/lib/python3.6/site-packages/tornado/stack_context.py\", line 276, in null_wrapper\n    return fn(*args, **kwargs)\n  File \"/home/ubuntu/anaconda3/envs/tensorflow_p36/lib/python3.6/site-packages/ipykernel/kernelbase.py\", line 283, in dispatcher\n    return self.dispatch_shell(stream, msg)\n  File \"/home/ubuntu/anaconda3/envs/tensorflow_p36/lib/python3.6/site-packages/ipykernel/kernelbase.py\", line 233, in dispatch_shell\n    handler(stream, idents, msg)\n  File \"/home/ubuntu/anaconda3/envs/tensorflow_p36/lib/python3.6/site-packages/ipykernel/kernelbase.py\", line 399, in execute_request\n    user_expressions, allow_stdin)\n  File \"/home/ubuntu/anaconda3/envs/tensorflow_p36/lib/python3.6/site-packages/ipykernel/ipkernel.py\", line 208, in do_execute\n    res = shell.run_cell(code, store_history=store_history, silent=silent)\n  File \"/home/ubuntu/anaconda3/envs/tensorflow_p36/lib/python3.6/site-packages/ipykernel/zmqshell.py\", line 537, in run_cell\n    return super(ZMQInteractiveShell, self).run_cell(*args, **kwargs)\n  File \"/home/ubuntu/anaconda3/envs/tensorflow_p36/lib/python3.6/site-packages/IPython/core/interactiveshell.py\", line 2728, in run_cell\n    interactivity=interactivity, compiler=compiler, result=result)\n  File \"/home/ubuntu/anaconda3/envs/tensorflow_p36/lib/python3.6/site-packages/IPython/core/interactiveshell.py\", line 2850, in run_ast_nodes\n    if self.run_code(code, result):\n  File \"/home/ubuntu/anaconda3/envs/tensorflow_p36/lib/python3.6/site-packages/IPython/core/interactiveshell.py\", line 2910, in run_code\n    exec(code_obj, self.user_global_ns, self.user_ns)\n  File \"<ipython-input-15-981eb636afa2>\", line 1, in <module>\n    res = resnet()\n  File \"<ipython-input-13-5071c12aa77e>\", line 2, in resnet\n    base_model = ResNet50(include_top=False, weights='imagenet')\n  File \"/home/ubuntu/anaconda3/envs/tensorflow_p36/lib/python3.6/site-packages/keras/applications/resnet50.py\", line 219, in ResNet50\n    x = conv_block(x, 3, [64, 64, 256], stage=2, block='a', strides=(1, 1))\n  File \"/home/ubuntu/anaconda3/envs/tensorflow_p36/lib/python3.6/site-packages/keras/applications/resnet50.py\", line 118, in conv_block\n    x = BatchNormalization(axis=bn_axis, name=bn_name_base + '2c')(x)\n  File \"/home/ubuntu/anaconda3/envs/tensorflow_p36/lib/python3.6/site-packages/keras/engine/topology.py\", line 619, in __call__\n    output = self.call(inputs, **kwargs)\n  File \"/home/ubuntu/anaconda3/envs/tensorflow_p36/lib/python3.6/site-packages/keras/layers/normalization.py\", line 181, in call\n    epsilon=self.epsilon)\n  File \"/home/ubuntu/anaconda3/envs/tensorflow_p36/lib/python3.6/site-packages/keras/backend/tensorflow_backend.py\", line 1827, in normalize_batch_in_training\n    epsilon=epsilon)\n  File \"/home/ubuntu/anaconda3/envs/tensorflow_p36/lib/python3.6/site-packages/keras/backend/tensorflow_backend.py\", line 1802, in _fused_normalize_batch_in_training\n    data_format=tf_data_format)\n  File \"/home/ubuntu/anaconda3/envs/tensorflow_p36/lib/python3.6/site-packages/tensorflow/python/ops/nn_impl.py\", line 906, in fused_batch_norm\n    name=name)\n  File \"/home/ubuntu/anaconda3/envs/tensorflow_p36/lib/python3.6/site-packages/tensorflow/python/ops/gen_nn_ops.py\", line 2224, in _fused_batch_norm\n    is_training=is_training, name=name)\n  File \"/home/ubuntu/anaconda3/envs/tensorflow_p36/lib/python3.6/site-packages/tensorflow/python/framework/op_def_library.py\", line 787, in _apply_op_helper\n    op_def=op_def)\n  File \"/home/ubuntu/anaconda3/envs/tensorflow_p36/lib/python3.6/site-packages/tensorflow/python/framework/ops.py\", line 3271, in create_op\n    op_def=op_def)\n  File \"/home/ubuntu/anaconda3/envs/tensorflow_p36/lib/python3.6/site-packages/tensorflow/python/framework/ops.py\", line 1650, in __init__\n    self._traceback = self._graph._extract_stack()  # pylint: disable=protected-access\n\nResourceExhaustedError (see above for traceback): OOM when allocating tensor with shape[656,256,55,55] and type float on /job:localhost/replica:0/task:0/device:GPU:0 by allocator GPU_0_bfc\n\t [[Node: bn2a_branch2c/FusedBatchNorm = FusedBatchNorm[T=DT_FLOAT, data_format=\"NHWC\", epsilon=0.001, is_training=true, _device=\"/job:localhost/replica:0/task:0/device:GPU:0\"](res2a_branch2c/BiasAdd, bn2a_branch2c/gamma/read, bn2a_branch2c/beta/read, bn5c_branch2a/Const_4, bn5c_branch2a/Const_4)]]\nHint: If you want to see a list of allocated tensors when OOM happens, add report_tensor_allocations_upon_oom to RunOptions for current allocation info.\n\n\t [[Node: dense_3/Softmax/_2365 = _Recv[client_terminated=false, recv_device=\"/job:localhost/replica:0/task:0/device:CPU:0\", send_device=\"/job:localhost/replica:0/task:0/device:GPU:0\", send_device_incarnation=1, tensor_name=\"edge_2711_dense_3/Softmax\", tensor_type=DT_FLOAT, _device=\"/job:localhost/replica:0/task:0/device:CPU:0\"]()]]\nHint: If you want to see a list of allocated tensors when OOM happens, add report_tensor_allocations_upon_oom to RunOptions for current allocation info.\n\n"
     ]
    }
   ],
   "source": [
    "b = res.predict_generator(generator=ge, steps=120, verbose=1)"
   ]
  },
  {
   "cell_type": "code",
   "execution_count": 23,
   "metadata": {},
   "outputs": [
    {
     "data": {
      "text/plain": [
       "(1536, 10)"
      ]
     },
     "execution_count": 23,
     "metadata": {},
     "output_type": "execute_result"
    }
   ],
   "source": [
    "b.shape"
   ]
  },
  {
   "cell_type": "code",
   "execution_count": 21,
   "metadata": {},
   "outputs": [
    {
     "name": "stdout",
     "output_type": "stream",
     "text": [
      "Read test images\n"
     ]
    }
   ],
   "source": [
    "a= next(load_test_generator(64, img_rows=224, img_cols=224))"
   ]
  },
  {
   "cell_type": "code",
   "execution_count": 22,
   "metadata": {},
   "outputs": [
    {
     "data": {
      "text/plain": [
       "(64, 224, 224, 3)"
      ]
     },
     "execution_count": 22,
     "metadata": {},
     "output_type": "execute_result"
    }
   ],
   "source": [
    "a.shape"
   ]
  },
  {
   "cell_type": "code",
   "execution_count": 14,
   "metadata": {},
   "outputs": [],
   "source": [
    "#driver_val = ['p026','p035','p039','p041']\n",
    "#X_train, y_train, X_val, y_val = train_val_split(driver_val, driver_id, X_train, y_train)"
   ]
  },
  {
   "cell_type": "code",
   "execution_count": 15,
   "metadata": {},
   "outputs": [],
   "source": [
    "r = np.random.permutation(len(X_train))\n",
    "X_train, y_train = X_train[r,:,:,:], y_train[r,:]"
   ]
  },
  {
   "cell_type": "code",
   "execution_count": 16,
   "metadata": {},
   "outputs": [
    {
     "data": {
      "text/plain": [
       "(19124, 224, 224, 3)"
      ]
     },
     "execution_count": 16,
     "metadata": {},
     "output_type": "execute_result"
    }
   ],
   "source": [
    "X_train.shape"
   ]
  },
  {
   "cell_type": "code",
   "execution_count": 32,
   "metadata": {},
   "outputs": [
    {
     "data": {
      "text/plain": [
       "[<matplotlib.lines.Line2D at 0x7fa1b8633fd0>]"
      ]
     },
     "execution_count": 32,
     "metadata": {},
     "output_type": "execute_result"
    },
    {
     "data": {
      "image/png": "[encoded data removed]",
      "text/plain": [
       "<Figure size 432x288 with 1 Axes>"
      ]
     },
     "metadata": {},
     "output_type": "display_data"
    }
   ],
   "source": [
    "plt.plot(range(10),res_hist.history['loss'],'r',label='loss')\n",
    "plt.plot(range(10),res_hist.history['val_loss'],'b',label='val_loss')"
   ]
  },
  {
   "cell_type": "code",
   "execution_count": 33,
   "metadata": {},
   "outputs": [
    {
     "data": {
      "text/plain": [
       "[<matplotlib.lines.Line2D at 0x7fa1b86df278>]"
      ]
     },
     "execution_count": 33,
     "metadata": {},
     "output_type": "execute_result"
    },
    {
     "data": {
      "image/png": "[encoded data removed]",
      "text/plain": [
       "<Figure size 432x288 with 1 Axes>"
      ]
     },
     "metadata": {},
     "output_type": "display_data"
    }
   ],
   "source": [
    "plt.plot(range(10),res_hist.history['acc'],'r',label='acc')\n",
    "plt.plot(range(10),res_hist.history['val_acc'],'b',label='val_acc')"
   ]
  },
  {
   "cell_type": "code",
   "execution_count": 24,
   "metadata": {},
   "outputs": [],
   "source": [
    "#json_string = res.to_json()\n",
    "#os.mkdir('cache')\n",
    "#open(os.path.join('cache', 'res1'), 'w').write(json_string)\n",
    "#res.save_weights(os.path.join('cache', 'res1weight'), overwrite=True)"
   ]
  },
  {
   "cell_type": "code",
   "execution_count": null,
   "metadata": {},
   "outputs": [],
   "source": []
  },
  {
   "cell_type": "code",
   "execution_count": null,
   "metadata": {},
   "outputs": [],
   "source": []
  },
  {
   "cell_type": "code",
   "execution_count": null,
   "metadata": {},
   "outputs": [],
   "source": [
    "#batch_size = 64\n",
    "#steps_per_epoch = int(math.ceil(len(X_train)/batch_size))"
   ]
  },
  {
   "cell_type": "code",
   "execution_count": null,
   "metadata": {},
   "outputs": [],
   "source": [
    "#hist = vgg.fit_generator(shuffle_and_batch(batch_size, X_train, y_train), steps_per_epoch, epochs=10, verbose=1)"
   ]
  },
  {
   "cell_type": "code",
   "execution_count": 37,
   "metadata": {},
   "outputs": [
    {
     "data": {
      "image/svg+xml": [
       "<svg height=\"1881pt\" viewBox=\"0.00 0.00 497.00 1881.00\" width=\"497pt\" xmlns=\"http://www.w3.org/2000/svg\" xmlns:xlink=\"http://www.w3.org/1999/xlink\">\n",
       "<g class=\"graph\" id=\"graph0\" transform=\"scale(1 1) rotate(0) translate(4 1877)\">\n",
       "<title>G</title>\n",
       "<polygon fill=\"#ffffff\" points=\"-4,4 -4,-1877 493,-1877 493,4 -4,4\" stroke=\"transparent\"/>\n",
       "<!-- 140332561180152 -->\n",
       "<g class=\"node\" id=\"node1\">\n",
       "<title>140332561180152</title>\n",
       "<polygon fill=\"none\" points=\"92,-1826.5 92,-1872.5 397,-1872.5 397,-1826.5 92,-1826.5\" stroke=\"#000000\"/>\n",
       "<text fill=\"#000000\" font-family=\"Times,serif\" font-size=\"14.00\" text-anchor=\"middle\" x=\"154.5\" y=\"-1845.8\">input_3: InputLayer</text>\n",
       "<polyline fill=\"none\" points=\"217,-1826.5 217,-1872.5 \" stroke=\"#000000\"/>\n",
       "<text fill=\"#000000\" font-family=\"Times,serif\" font-size=\"14.00\" text-anchor=\"middle\" x=\"244.5\" y=\"-1857.3\">input:</text>\n",
       "<polyline fill=\"none\" points=\"217,-1849.5 272,-1849.5 \" stroke=\"#000000\"/>\n",
       "<text fill=\"#000000\" font-family=\"Times,serif\" font-size=\"14.00\" text-anchor=\"middle\" x=\"244.5\" y=\"-1834.3\">output:</text>\n",
       "<polyline fill=\"none\" points=\"272,-1826.5 272,-1872.5 \" stroke=\"#000000\"/>\n",
       "<text fill=\"#000000\" font-family=\"Times,serif\" font-size=\"14.00\" text-anchor=\"middle\" x=\"334.5\" y=\"-1857.3\">(None, 224, 224, 3)</text>\n",
       "<polyline fill=\"none\" points=\"272,-1849.5 397,-1849.5 \" stroke=\"#000000\"/>\n",
       "<text fill=\"#000000\" font-family=\"Times,serif\" font-size=\"14.00\" text-anchor=\"middle\" x=\"334.5\" y=\"-1834.3\">(None, 224, 224, 3)</text>\n",
       "</g>\n",
       "<!-- 140332561182168 -->\n",
       "<g class=\"node\" id=\"node2\">\n",
       "<title>140332561182168</title>\n",
       "<polygon fill=\"none\" points=\"78.5,-1743.5 78.5,-1789.5 410.5,-1789.5 410.5,-1743.5 78.5,-1743.5\" stroke=\"#000000\"/>\n",
       "<text fill=\"#000000\" font-family=\"Times,serif\" font-size=\"14.00\" text-anchor=\"middle\" x=\"151.5\" y=\"-1762.8\">block1_conv1: Conv2D</text>\n",
       "<polyline fill=\"none\" points=\"224.5,-1743.5 224.5,-1789.5 \" stroke=\"#000000\"/>\n",
       "<text fill=\"#000000\" font-family=\"Times,serif\" font-size=\"14.00\" text-anchor=\"middle\" x=\"252\" y=\"-1774.3\">input:</text>\n",
       "<polyline fill=\"none\" points=\"224.5,-1766.5 279.5,-1766.5 \" stroke=\"#000000\"/>\n",
       "<text fill=\"#000000\" font-family=\"Times,serif\" font-size=\"14.00\" text-anchor=\"middle\" x=\"252\" y=\"-1751.3\">output:</text>\n",
       "<polyline fill=\"none\" points=\"279.5,-1743.5 279.5,-1789.5 \" stroke=\"#000000\"/>\n",
       "<text fill=\"#000000\" font-family=\"Times,serif\" font-size=\"14.00\" text-anchor=\"middle\" x=\"345\" y=\"-1774.3\">(None, 224, 224, 3)</text>\n",
       "<polyline fill=\"none\" points=\"279.5,-1766.5 410.5,-1766.5 \" stroke=\"#000000\"/>\n",
       "<text fill=\"#000000\" font-family=\"Times,serif\" font-size=\"14.00\" text-anchor=\"middle\" x=\"345\" y=\"-1751.3\">(None, 224, 224, 64)</text>\n",
       "</g>\n",
       "<!-- 140332561180152&#45;&gt;140332561182168 -->\n",
       "<g class=\"edge\" id=\"edge1\">\n",
       "<title>140332561180152-&gt;140332561182168</title>\n",
       "<path d=\"M244.5,-1826.3799C244.5,-1818.1745 244.5,-1808.7679 244.5,-1799.8786\" fill=\"none\" stroke=\"#000000\"/>\n",
       "<polygon fill=\"#000000\" points=\"248.0001,-1799.784 244.5,-1789.784 241.0001,-1799.784 248.0001,-1799.784\" stroke=\"#000000\"/>\n",
       "</g>\n",
       "<!-- 140332560868744 -->\n",
       "<g class=\"node\" id=\"node3\">\n",
       "<title>140332560868744</title>\n",
       "<polygon fill=\"none\" points=\"78.5,-1660.5 78.5,-1706.5 410.5,-1706.5 410.5,-1660.5 78.5,-1660.5\" stroke=\"#000000\"/>\n",
       "<text fill=\"#000000\" font-family=\"Times,serif\" font-size=\"14.00\" text-anchor=\"middle\" x=\"151.5\" y=\"-1679.8\">block1_conv2: Conv2D</text>\n",
       "<polyline fill=\"none\" points=\"224.5,-1660.5 224.5,-1706.5 \" stroke=\"#000000\"/>\n",
       "<text fill=\"#000000\" font-family=\"Times,serif\" font-size=\"14.00\" text-anchor=\"middle\" x=\"252\" y=\"-1691.3\">input:</text>\n",
       "<polyline fill=\"none\" points=\"224.5,-1683.5 279.5,-1683.5 \" stroke=\"#000000\"/>\n",
       "<text fill=\"#000000\" font-family=\"Times,serif\" font-size=\"14.00\" text-anchor=\"middle\" x=\"252\" y=\"-1668.3\">output:</text>\n",
       "<polyline fill=\"none\" points=\"279.5,-1660.5 279.5,-1706.5 \" stroke=\"#000000\"/>\n",
       "<text fill=\"#000000\" font-family=\"Times,serif\" font-size=\"14.00\" text-anchor=\"middle\" x=\"345\" y=\"-1691.3\">(None, 224, 224, 64)</text>\n",
       "<polyline fill=\"none\" points=\"279.5,-1683.5 410.5,-1683.5 \" stroke=\"#000000\"/>\n",
       "<text fill=\"#000000\" font-family=\"Times,serif\" font-size=\"14.00\" text-anchor=\"middle\" x=\"345\" y=\"-1668.3\">(None, 224, 224, 64)</text>\n",
       "</g>\n",
       "<!-- 140332561182168&#45;&gt;140332560868744 -->\n",
       "<g class=\"edge\" id=\"edge2\">\n",
       "<title>140332561182168-&gt;140332560868744</title>\n",
       "<path d=\"M244.5,-1743.3799C244.5,-1735.1745 244.5,-1725.7679 244.5,-1716.8786\" fill=\"none\" stroke=\"#000000\"/>\n",
       "<polygon fill=\"#000000\" points=\"248.0001,-1716.784 244.5,-1706.784 241.0001,-1716.784 248.0001,-1716.784\" stroke=\"#000000\"/>\n",
       "</g>\n",
       "<!-- 140332561182280 -->\n",
       "<g class=\"node\" id=\"node4\">\n",
       "<title>140332561182280</title>\n",
       "<polygon fill=\"none\" points=\"63.5,-1577.5 63.5,-1623.5 425.5,-1623.5 425.5,-1577.5 63.5,-1577.5\" stroke=\"#000000\"/>\n",
       "<text fill=\"#000000\" font-family=\"Times,serif\" font-size=\"14.00\" text-anchor=\"middle\" x=\"151.5\" y=\"-1596.8\">block1_pool: MaxPooling2D</text>\n",
       "<polyline fill=\"none\" points=\"239.5,-1577.5 239.5,-1623.5 \" stroke=\"#000000\"/>\n",
       "<text fill=\"#000000\" font-family=\"Times,serif\" font-size=\"14.00\" text-anchor=\"middle\" x=\"267\" y=\"-1608.3\">input:</text>\n",
       "<polyline fill=\"none\" points=\"239.5,-1600.5 294.5,-1600.5 \" stroke=\"#000000\"/>\n",
       "<text fill=\"#000000\" font-family=\"Times,serif\" font-size=\"14.00\" text-anchor=\"middle\" x=\"267\" y=\"-1585.3\">output:</text>\n",
       "<polyline fill=\"none\" points=\"294.5,-1577.5 294.5,-1623.5 \" stroke=\"#000000\"/>\n",
       "<text fill=\"#000000\" font-family=\"Times,serif\" font-size=\"14.00\" text-anchor=\"middle\" x=\"360\" y=\"-1608.3\">(None, 224, 224, 64)</text>\n",
       "<polyline fill=\"none\" points=\"294.5,-1600.5 425.5,-1600.5 \" stroke=\"#000000\"/>\n",
       "<text fill=\"#000000\" font-family=\"Times,serif\" font-size=\"14.00\" text-anchor=\"middle\" x=\"360\" y=\"-1585.3\">(None, 112, 112, 64)</text>\n",
       "</g>\n",
       "<!-- 140332560868744&#45;&gt;140332561182280 -->\n",
       "<g class=\"edge\" id=\"edge3\">\n",
       "<title>140332560868744-&gt;140332561182280</title>\n",
       "<path d=\"M244.5,-1660.3799C244.5,-1652.1745 244.5,-1642.7679 244.5,-1633.8786\" fill=\"none\" stroke=\"#000000\"/>\n",
       "<polygon fill=\"#000000\" points=\"248.0001,-1633.784 244.5,-1623.784 241.0001,-1633.784 248.0001,-1633.784\" stroke=\"#000000\"/>\n",
       "</g>\n",
       "<!-- 140332561304320 -->\n",
       "<g class=\"node\" id=\"node5\">\n",
       "<title>140332561304320</title>\n",
       "<polygon fill=\"none\" points=\"75,-1494.5 75,-1540.5 414,-1540.5 414,-1494.5 75,-1494.5\" stroke=\"#000000\"/>\n",
       "<text fill=\"#000000\" font-family=\"Times,serif\" font-size=\"14.00\" text-anchor=\"middle\" x=\"148\" y=\"-1513.8\">block2_conv1: Conv2D</text>\n",
       "<polyline fill=\"none\" points=\"221,-1494.5 221,-1540.5 \" stroke=\"#000000\"/>\n",
       "<text fill=\"#000000\" font-family=\"Times,serif\" font-size=\"14.00\" text-anchor=\"middle\" x=\"248.5\" y=\"-1525.3\">input:</text>\n",
       "<polyline fill=\"none\" points=\"221,-1517.5 276,-1517.5 \" stroke=\"#000000\"/>\n",
       "<text fill=\"#000000\" font-family=\"Times,serif\" font-size=\"14.00\" text-anchor=\"middle\" x=\"248.5\" y=\"-1502.3\">output:</text>\n",
       "<polyline fill=\"none\" points=\"276,-1494.5 276,-1540.5 \" stroke=\"#000000\"/>\n",
       "<text fill=\"#000000\" font-family=\"Times,serif\" font-size=\"14.00\" text-anchor=\"middle\" x=\"345\" y=\"-1525.3\">(None, 112, 112, 64)</text>\n",
       "<polyline fill=\"none\" points=\"276,-1517.5 414,-1517.5 \" stroke=\"#000000\"/>\n",
       "<text fill=\"#000000\" font-family=\"Times,serif\" font-size=\"14.00\" text-anchor=\"middle\" x=\"345\" y=\"-1502.3\">(None, 112, 112, 128)</text>\n",
       "</g>\n",
       "<!-- 140332561182280&#45;&gt;140332561304320 -->\n",
       "<g class=\"edge\" id=\"edge4\">\n",
       "<title>140332561182280-&gt;140332561304320</title>\n",
       "<path d=\"M244.5,-1577.3799C244.5,-1569.1745 244.5,-1559.7679 244.5,-1550.8786\" fill=\"none\" stroke=\"#000000\"/>\n",
       "<polygon fill=\"#000000\" points=\"248.0001,-1550.784 244.5,-1540.784 241.0001,-1550.784 248.0001,-1550.784\" stroke=\"#000000\"/>\n",
       "</g>\n",
       "<!-- 140332561087176 -->\n",
       "<g class=\"node\" id=\"node6\">\n",
       "<title>140332561087176</title>\n",
       "<polygon fill=\"none\" points=\"75,-1411.5 75,-1457.5 414,-1457.5 414,-1411.5 75,-1411.5\" stroke=\"#000000\"/>\n",
       "<text fill=\"#000000\" font-family=\"Times,serif\" font-size=\"14.00\" text-anchor=\"middle\" x=\"148\" y=\"-1430.8\">block2_conv2: Conv2D</text>\n",
       "<polyline fill=\"none\" points=\"221,-1411.5 221,-1457.5 \" stroke=\"#000000\"/>\n",
       "<text fill=\"#000000\" font-family=\"Times,serif\" font-size=\"14.00\" text-anchor=\"middle\" x=\"248.5\" y=\"-1442.3\">input:</text>\n",
       "<polyline fill=\"none\" points=\"221,-1434.5 276,-1434.5 \" stroke=\"#000000\"/>\n",
       "<text fill=\"#000000\" font-family=\"Times,serif\" font-size=\"14.00\" text-anchor=\"middle\" x=\"248.5\" y=\"-1419.3\">output:</text>\n",
       "<polyline fill=\"none\" points=\"276,-1411.5 276,-1457.5 \" stroke=\"#000000\"/>\n",
       "<text fill=\"#000000\" font-family=\"Times,serif\" font-size=\"14.00\" text-anchor=\"middle\" x=\"345\" y=\"-1442.3\">(None, 112, 112, 128)</text>\n",
       "<polyline fill=\"none\" points=\"276,-1434.5 414,-1434.5 \" stroke=\"#000000\"/>\n",
       "<text fill=\"#000000\" font-family=\"Times,serif\" font-size=\"14.00\" text-anchor=\"middle\" x=\"345\" y=\"-1419.3\">(None, 112, 112, 128)</text>\n",
       "</g>\n",
       "<!-- 140332561304320&#45;&gt;140332561087176 -->\n",
       "<g class=\"edge\" id=\"edge5\">\n",
       "<title>140332561304320-&gt;140332561087176</title>\n",
       "<path d=\"M244.5,-1494.3799C244.5,-1486.1745 244.5,-1476.7679 244.5,-1467.8786\" fill=\"none\" stroke=\"#000000\"/>\n",
       "<polygon fill=\"#000000\" points=\"248.0001,-1467.784 244.5,-1457.784 241.0001,-1467.784 248.0001,-1467.784\" stroke=\"#000000\"/>\n",
       "</g>\n",
       "<!-- 140332561575664 -->\n",
       "<g class=\"node\" id=\"node7\">\n",
       "<title>140332561575664</title>\n",
       "<polygon fill=\"none\" points=\"60,-1328.5 60,-1374.5 429,-1374.5 429,-1328.5 60,-1328.5\" stroke=\"#000000\"/>\n",
       "<text fill=\"#000000\" font-family=\"Times,serif\" font-size=\"14.00\" text-anchor=\"middle\" x=\"148\" y=\"-1347.8\">block2_pool: MaxPooling2D</text>\n",
       "<polyline fill=\"none\" points=\"236,-1328.5 236,-1374.5 \" stroke=\"#000000\"/>\n",
       "<text fill=\"#000000\" font-family=\"Times,serif\" font-size=\"14.00\" text-anchor=\"middle\" x=\"263.5\" y=\"-1359.3\">input:</text>\n",
       "<polyline fill=\"none\" points=\"236,-1351.5 291,-1351.5 \" stroke=\"#000000\"/>\n",
       "<text fill=\"#000000\" font-family=\"Times,serif\" font-size=\"14.00\" text-anchor=\"middle\" x=\"263.5\" y=\"-1336.3\">output:</text>\n",
       "<polyline fill=\"none\" points=\"291,-1328.5 291,-1374.5 \" stroke=\"#000000\"/>\n",
       "<text fill=\"#000000\" font-family=\"Times,serif\" font-size=\"14.00\" text-anchor=\"middle\" x=\"360\" y=\"-1359.3\">(None, 112, 112, 128)</text>\n",
       "<polyline fill=\"none\" points=\"291,-1351.5 429,-1351.5 \" stroke=\"#000000\"/>\n",
       "<text fill=\"#000000\" font-family=\"Times,serif\" font-size=\"14.00\" text-anchor=\"middle\" x=\"360\" y=\"-1336.3\">(None, 56, 56, 128)</text>\n",
       "</g>\n",
       "<!-- 140332561087176&#45;&gt;140332561575664 -->\n",
       "<g class=\"edge\" id=\"edge6\">\n",
       "<title>140332561087176-&gt;140332561575664</title>\n",
       "<path d=\"M244.5,-1411.3799C244.5,-1403.1745 244.5,-1393.7679 244.5,-1384.8786\" fill=\"none\" stroke=\"#000000\"/>\n",
       "<polygon fill=\"#000000\" points=\"248.0001,-1384.784 244.5,-1374.784 241.0001,-1384.784 248.0001,-1384.784\" stroke=\"#000000\"/>\n",
       "</g>\n",
       "<!-- 140332561525280 -->\n",
       "<g class=\"node\" id=\"node8\">\n",
       "<title>140332561525280</title>\n",
       "<polygon fill=\"none\" points=\"81.5,-1245.5 81.5,-1291.5 407.5,-1291.5 407.5,-1245.5 81.5,-1245.5\" stroke=\"#000000\"/>\n",
       "<text fill=\"#000000\" font-family=\"Times,serif\" font-size=\"14.00\" text-anchor=\"middle\" x=\"154.5\" y=\"-1264.8\">block3_conv1: Conv2D</text>\n",
       "<polyline fill=\"none\" points=\"227.5,-1245.5 227.5,-1291.5 \" stroke=\"#000000\"/>\n",
       "<text fill=\"#000000\" font-family=\"Times,serif\" font-size=\"14.00\" text-anchor=\"middle\" x=\"255\" y=\"-1276.3\">input:</text>\n",
       "<polyline fill=\"none\" points=\"227.5,-1268.5 282.5,-1268.5 \" stroke=\"#000000\"/>\n",
       "<text fill=\"#000000\" font-family=\"Times,serif\" font-size=\"14.00\" text-anchor=\"middle\" x=\"255\" y=\"-1253.3\">output:</text>\n",
       "<polyline fill=\"none\" points=\"282.5,-1245.5 282.5,-1291.5 \" stroke=\"#000000\"/>\n",
       "<text fill=\"#000000\" font-family=\"Times,serif\" font-size=\"14.00\" text-anchor=\"middle\" x=\"345\" y=\"-1276.3\">(None, 56, 56, 128)</text>\n",
       "<polyline fill=\"none\" points=\"282.5,-1268.5 407.5,-1268.5 \" stroke=\"#000000\"/>\n",
       "<text fill=\"#000000\" font-family=\"Times,serif\" font-size=\"14.00\" text-anchor=\"middle\" x=\"345\" y=\"-1253.3\">(None, 56, 56, 256)</text>\n",
       "</g>\n",
       "<!-- 140332561575664&#45;&gt;140332561525280 -->\n",
       "<g class=\"edge\" id=\"edge7\">\n",
       "<title>140332561575664-&gt;140332561525280</title>\n",
       "<path d=\"M244.5,-1328.3799C244.5,-1320.1745 244.5,-1310.7679 244.5,-1301.8786\" fill=\"none\" stroke=\"#000000\"/>\n",
       "<polygon fill=\"#000000\" points=\"248.0001,-1301.784 244.5,-1291.784 241.0001,-1301.784 248.0001,-1301.784\" stroke=\"#000000\"/>\n",
       "</g>\n",
       "<!-- 140332561360880 -->\n",
       "<g class=\"node\" id=\"node9\">\n",
       "<title>140332561360880</title>\n",
       "<polygon fill=\"none\" points=\"81.5,-1162.5 81.5,-1208.5 407.5,-1208.5 407.5,-1162.5 81.5,-1162.5\" stroke=\"#000000\"/>\n",
       "<text fill=\"#000000\" font-family=\"Times,serif\" font-size=\"14.00\" text-anchor=\"middle\" x=\"154.5\" y=\"-1181.8\">block3_conv2: Conv2D</text>\n",
       "<polyline fill=\"none\" points=\"227.5,-1162.5 227.5,-1208.5 \" stroke=\"#000000\"/>\n",
       "<text fill=\"#000000\" font-family=\"Times,serif\" font-size=\"14.00\" text-anchor=\"middle\" x=\"255\" y=\"-1193.3\">input:</text>\n",
       "<polyline fill=\"none\" points=\"227.5,-1185.5 282.5,-1185.5 \" stroke=\"#000000\"/>\n",
       "<text fill=\"#000000\" font-family=\"Times,serif\" font-size=\"14.00\" text-anchor=\"middle\" x=\"255\" y=\"-1170.3\">output:</text>\n",
       "<polyline fill=\"none\" points=\"282.5,-1162.5 282.5,-1208.5 \" stroke=\"#000000\"/>\n",
       "<text fill=\"#000000\" font-family=\"Times,serif\" font-size=\"14.00\" text-anchor=\"middle\" x=\"345\" y=\"-1193.3\">(None, 56, 56, 256)</text>\n",
       "<polyline fill=\"none\" points=\"282.5,-1185.5 407.5,-1185.5 \" stroke=\"#000000\"/>\n",
       "<text fill=\"#000000\" font-family=\"Times,serif\" font-size=\"14.00\" text-anchor=\"middle\" x=\"345\" y=\"-1170.3\">(None, 56, 56, 256)</text>\n",
       "</g>\n",
       "<!-- 140332561525280&#45;&gt;140332561360880 -->\n",
       "<g class=\"edge\" id=\"edge8\">\n",
       "<title>140332561525280-&gt;140332561360880</title>\n",
       "<path d=\"M244.5,-1245.3799C244.5,-1237.1745 244.5,-1227.7679 244.5,-1218.8786\" fill=\"none\" stroke=\"#000000\"/>\n",
       "<polygon fill=\"#000000\" points=\"248.0001,-1218.784 244.5,-1208.784 241.0001,-1218.784 248.0001,-1218.784\" stroke=\"#000000\"/>\n",
       "</g>\n",
       "<!-- 140332561406384 -->\n",
       "<g class=\"node\" id=\"node10\">\n",
       "<title>140332561406384</title>\n",
       "<polygon fill=\"none\" points=\"81.5,-1079.5 81.5,-1125.5 407.5,-1125.5 407.5,-1079.5 81.5,-1079.5\" stroke=\"#000000\"/>\n",
       "<text fill=\"#000000\" font-family=\"Times,serif\" font-size=\"14.00\" text-anchor=\"middle\" x=\"154.5\" y=\"-1098.8\">block3_conv3: Conv2D</text>\n",
       "<polyline fill=\"none\" points=\"227.5,-1079.5 227.5,-1125.5 \" stroke=\"#000000\"/>\n",
       "<text fill=\"#000000\" font-family=\"Times,serif\" font-size=\"14.00\" text-anchor=\"middle\" x=\"255\" y=\"-1110.3\">input:</text>\n",
       "<polyline fill=\"none\" points=\"227.5,-1102.5 282.5,-1102.5 \" stroke=\"#000000\"/>\n",
       "<text fill=\"#000000\" font-family=\"Times,serif\" font-size=\"14.00\" text-anchor=\"middle\" x=\"255\" y=\"-1087.3\">output:</text>\n",
       "<polyline fill=\"none\" points=\"282.5,-1079.5 282.5,-1125.5 \" stroke=\"#000000\"/>\n",
       "<text fill=\"#000000\" font-family=\"Times,serif\" font-size=\"14.00\" text-anchor=\"middle\" x=\"345\" y=\"-1110.3\">(None, 56, 56, 256)</text>\n",
       "<polyline fill=\"none\" points=\"282.5,-1102.5 407.5,-1102.5 \" stroke=\"#000000\"/>\n",
       "<text fill=\"#000000\" font-family=\"Times,serif\" font-size=\"14.00\" text-anchor=\"middle\" x=\"345\" y=\"-1087.3\">(None, 56, 56, 256)</text>\n",
       "</g>\n",
       "<!-- 140332561360880&#45;&gt;140332561406384 -->\n",
       "<g class=\"edge\" id=\"edge9\">\n",
       "<title>140332561360880-&gt;140332561406384</title>\n",
       "<path d=\"M244.5,-1162.3799C244.5,-1154.1745 244.5,-1144.7679 244.5,-1135.8786\" fill=\"none\" stroke=\"#000000\"/>\n",
       "<polygon fill=\"#000000\" points=\"248.0001,-1135.784 244.5,-1125.784 241.0001,-1135.784 248.0001,-1135.784\" stroke=\"#000000\"/>\n",
       "</g>\n",
       "<!-- 140332561440048 -->\n",
       "<g class=\"node\" id=\"node11\">\n",
       "<title>140332561440048</title>\n",
       "<polygon fill=\"none\" points=\"66.5,-996.5 66.5,-1042.5 422.5,-1042.5 422.5,-996.5 66.5,-996.5\" stroke=\"#000000\"/>\n",
       "<text fill=\"#000000\" font-family=\"Times,serif\" font-size=\"14.00\" text-anchor=\"middle\" x=\"154.5\" y=\"-1015.8\">block3_pool: MaxPooling2D</text>\n",
       "<polyline fill=\"none\" points=\"242.5,-996.5 242.5,-1042.5 \" stroke=\"#000000\"/>\n",
       "<text fill=\"#000000\" font-family=\"Times,serif\" font-size=\"14.00\" text-anchor=\"middle\" x=\"270\" y=\"-1027.3\">input:</text>\n",
       "<polyline fill=\"none\" points=\"242.5,-1019.5 297.5,-1019.5 \" stroke=\"#000000\"/>\n",
       "<text fill=\"#000000\" font-family=\"Times,serif\" font-size=\"14.00\" text-anchor=\"middle\" x=\"270\" y=\"-1004.3\">output:</text>\n",
       "<polyline fill=\"none\" points=\"297.5,-996.5 297.5,-1042.5 \" stroke=\"#000000\"/>\n",
       "<text fill=\"#000000\" font-family=\"Times,serif\" font-size=\"14.00\" text-anchor=\"middle\" x=\"360\" y=\"-1027.3\">(None, 56, 56, 256)</text>\n",
       "<polyline fill=\"none\" points=\"297.5,-1019.5 422.5,-1019.5 \" stroke=\"#000000\"/>\n",
       "<text fill=\"#000000\" font-family=\"Times,serif\" font-size=\"14.00\" text-anchor=\"middle\" x=\"360\" y=\"-1004.3\">(None, 28, 28, 256)</text>\n",
       "</g>\n",
       "<!-- 140332561406384&#45;&gt;140332561440048 -->\n",
       "<g class=\"edge\" id=\"edge10\">\n",
       "<title>140332561406384-&gt;140332561440048</title>\n",
       "<path d=\"M244.5,-1079.3799C244.5,-1071.1745 244.5,-1061.7679 244.5,-1052.8786\" fill=\"none\" stroke=\"#000000\"/>\n",
       "<polygon fill=\"#000000\" points=\"248.0001,-1052.784 244.5,-1042.784 241.0001,-1052.784 248.0001,-1052.784\" stroke=\"#000000\"/>\n",
       "</g>\n",
       "<!-- 140332561804928 -->\n",
       "<g class=\"node\" id=\"node12\">\n",
       "<title>140332561804928</title>\n",
       "<polygon fill=\"none\" points=\"81.5,-913.5 81.5,-959.5 407.5,-959.5 407.5,-913.5 81.5,-913.5\" stroke=\"#000000\"/>\n",
       "<text fill=\"#000000\" font-family=\"Times,serif\" font-size=\"14.00\" text-anchor=\"middle\" x=\"154.5\" y=\"-932.8\">block4_conv1: Conv2D</text>\n",
       "<polyline fill=\"none\" points=\"227.5,-913.5 227.5,-959.5 \" stroke=\"#000000\"/>\n",
       "<text fill=\"#000000\" font-family=\"Times,serif\" font-size=\"14.00\" text-anchor=\"middle\" x=\"255\" y=\"-944.3\">input:</text>\n",
       "<polyline fill=\"none\" points=\"227.5,-936.5 282.5,-936.5 \" stroke=\"#000000\"/>\n",
       "<text fill=\"#000000\" font-family=\"Times,serif\" font-size=\"14.00\" text-anchor=\"middle\" x=\"255\" y=\"-921.3\">output:</text>\n",
       "<polyline fill=\"none\" points=\"282.5,-913.5 282.5,-959.5 \" stroke=\"#000000\"/>\n",
       "<text fill=\"#000000\" font-family=\"Times,serif\" font-size=\"14.00\" text-anchor=\"middle\" x=\"345\" y=\"-944.3\">(None, 28, 28, 256)</text>\n",
       "<polyline fill=\"none\" points=\"282.5,-936.5 407.5,-936.5 \" stroke=\"#000000\"/>\n",
       "<text fill=\"#000000\" font-family=\"Times,serif\" font-size=\"14.00\" text-anchor=\"middle\" x=\"345\" y=\"-921.3\">(None, 28, 28, 512)</text>\n",
       "</g>\n",
       "<!-- 140332561440048&#45;&gt;140332561804928 -->\n",
       "<g class=\"edge\" id=\"edge11\">\n",
       "<title>140332561440048-&gt;140332561804928</title>\n",
       "<path d=\"M244.5,-996.3799C244.5,-988.1745 244.5,-978.7679 244.5,-969.8786\" fill=\"none\" stroke=\"#000000\"/>\n",
       "<polygon fill=\"#000000\" points=\"248.0001,-969.784 244.5,-959.784 241.0001,-969.784 248.0001,-969.784\" stroke=\"#000000\"/>\n",
       "</g>\n",
       "<!-- 140332561714088 -->\n",
       "<g class=\"node\" id=\"node13\">\n",
       "<title>140332561714088</title>\n",
       "<polygon fill=\"none\" points=\"81.5,-830.5 81.5,-876.5 407.5,-876.5 407.5,-830.5 81.5,-830.5\" stroke=\"#000000\"/>\n",
       "<text fill=\"#000000\" font-family=\"Times,serif\" font-size=\"14.00\" text-anchor=\"middle\" x=\"154.5\" y=\"-849.8\">block4_conv2: Conv2D</text>\n",
       "<polyline fill=\"none\" points=\"227.5,-830.5 227.5,-876.5 \" stroke=\"#000000\"/>\n",
       "<text fill=\"#000000\" font-family=\"Times,serif\" font-size=\"14.00\" text-anchor=\"middle\" x=\"255\" y=\"-861.3\">input:</text>\n",
       "<polyline fill=\"none\" points=\"227.5,-853.5 282.5,-853.5 \" stroke=\"#000000\"/>\n",
       "<text fill=\"#000000\" font-family=\"Times,serif\" font-size=\"14.00\" text-anchor=\"middle\" x=\"255\" y=\"-838.3\">output:</text>\n",
       "<polyline fill=\"none\" points=\"282.5,-830.5 282.5,-876.5 \" stroke=\"#000000\"/>\n",
       "<text fill=\"#000000\" font-family=\"Times,serif\" font-size=\"14.00\" text-anchor=\"middle\" x=\"345\" y=\"-861.3\">(None, 28, 28, 512)</text>\n",
       "<polyline fill=\"none\" points=\"282.5,-853.5 407.5,-853.5 \" stroke=\"#000000\"/>\n",
       "<text fill=\"#000000\" font-family=\"Times,serif\" font-size=\"14.00\" text-anchor=\"middle\" x=\"345\" y=\"-838.3\">(None, 28, 28, 512)</text>\n",
       "</g>\n",
       "<!-- 140332561804928&#45;&gt;140332561714088 -->\n",
       "<g class=\"edge\" id=\"edge12\">\n",
       "<title>140332561804928-&gt;140332561714088</title>\n",
       "<path d=\"M244.5,-913.3799C244.5,-905.1745 244.5,-895.7679 244.5,-886.8786\" fill=\"none\" stroke=\"#000000\"/>\n",
       "<polygon fill=\"#000000\" points=\"248.0001,-886.784 244.5,-876.784 241.0001,-886.784 248.0001,-886.784\" stroke=\"#000000\"/>\n",
       "</g>\n",
       "<!-- 140332562099336 -->\n",
       "<g class=\"node\" id=\"node14\">\n",
       "<title>140332562099336</title>\n",
       "<polygon fill=\"none\" points=\"81.5,-747.5 81.5,-793.5 407.5,-793.5 407.5,-747.5 81.5,-747.5\" stroke=\"#000000\"/>\n",
       "<text fill=\"#000000\" font-family=\"Times,serif\" font-size=\"14.00\" text-anchor=\"middle\" x=\"154.5\" y=\"-766.8\">block4_conv3: Conv2D</text>\n",
       "<polyline fill=\"none\" points=\"227.5,-747.5 227.5,-793.5 \" stroke=\"#000000\"/>\n",
       "<text fill=\"#000000\" font-family=\"Times,serif\" font-size=\"14.00\" text-anchor=\"middle\" x=\"255\" y=\"-778.3\">input:</text>\n",
       "<polyline fill=\"none\" points=\"227.5,-770.5 282.5,-770.5 \" stroke=\"#000000\"/>\n",
       "<text fill=\"#000000\" font-family=\"Times,serif\" font-size=\"14.00\" text-anchor=\"middle\" x=\"255\" y=\"-755.3\">output:</text>\n",
       "<polyline fill=\"none\" points=\"282.5,-747.5 282.5,-793.5 \" stroke=\"#000000\"/>\n",
       "<text fill=\"#000000\" font-family=\"Times,serif\" font-size=\"14.00\" text-anchor=\"middle\" x=\"345\" y=\"-778.3\">(None, 28, 28, 512)</text>\n",
       "<polyline fill=\"none\" points=\"282.5,-770.5 407.5,-770.5 \" stroke=\"#000000\"/>\n",
       "<text fill=\"#000000\" font-family=\"Times,serif\" font-size=\"14.00\" text-anchor=\"middle\" x=\"345\" y=\"-755.3\">(None, 28, 28, 512)</text>\n",
       "</g>\n",
       "<!-- 140332561714088&#45;&gt;140332562099336 -->\n",
       "<g class=\"edge\" id=\"edge13\">\n",
       "<title>140332561714088-&gt;140332562099336</title>\n",
       "<path d=\"M244.5,-830.3799C244.5,-822.1745 244.5,-812.7679 244.5,-803.8786\" fill=\"none\" stroke=\"#000000\"/>\n",
       "<polygon fill=\"#000000\" points=\"248.0001,-803.784 244.5,-793.784 241.0001,-803.784 248.0001,-803.784\" stroke=\"#000000\"/>\n",
       "</g>\n",
       "<!-- 140332561620384 -->\n",
       "<g class=\"node\" id=\"node15\">\n",
       "<title>140332561620384</title>\n",
       "<polygon fill=\"none\" points=\"66.5,-664.5 66.5,-710.5 422.5,-710.5 422.5,-664.5 66.5,-664.5\" stroke=\"#000000\"/>\n",
       "<text fill=\"#000000\" font-family=\"Times,serif\" font-size=\"14.00\" text-anchor=\"middle\" x=\"154.5\" y=\"-683.8\">block4_pool: MaxPooling2D</text>\n",
       "<polyline fill=\"none\" points=\"242.5,-664.5 242.5,-710.5 \" stroke=\"#000000\"/>\n",
       "<text fill=\"#000000\" font-family=\"Times,serif\" font-size=\"14.00\" text-anchor=\"middle\" x=\"270\" y=\"-695.3\">input:</text>\n",
       "<polyline fill=\"none\" points=\"242.5,-687.5 297.5,-687.5 \" stroke=\"#000000\"/>\n",
       "<text fill=\"#000000\" font-family=\"Times,serif\" font-size=\"14.00\" text-anchor=\"middle\" x=\"270\" y=\"-672.3\">output:</text>\n",
       "<polyline fill=\"none\" points=\"297.5,-664.5 297.5,-710.5 \" stroke=\"#000000\"/>\n",
       "<text fill=\"#000000\" font-family=\"Times,serif\" font-size=\"14.00\" text-anchor=\"middle\" x=\"360\" y=\"-695.3\">(None, 28, 28, 512)</text>\n",
       "<polyline fill=\"none\" points=\"297.5,-687.5 422.5,-687.5 \" stroke=\"#000000\"/>\n",
       "<text fill=\"#000000\" font-family=\"Times,serif\" font-size=\"14.00\" text-anchor=\"middle\" x=\"360\" y=\"-672.3\">(None, 14, 14, 512)</text>\n",
       "</g>\n",
       "<!-- 140332562099336&#45;&gt;140332561620384 -->\n",
       "<g class=\"edge\" id=\"edge14\">\n",
       "<title>140332562099336-&gt;140332561620384</title>\n",
       "<path d=\"M244.5,-747.3799C244.5,-739.1745 244.5,-729.7679 244.5,-720.8786\" fill=\"none\" stroke=\"#000000\"/>\n",
       "<polygon fill=\"#000000\" points=\"248.0001,-720.784 244.5,-710.784 241.0001,-720.784 248.0001,-720.784\" stroke=\"#000000\"/>\n",
       "</g>\n",
       "<!-- 140332562070552 -->\n",
       "<g class=\"node\" id=\"node16\">\n",
       "<title>140332562070552</title>\n",
       "<polygon fill=\"none\" points=\"81.5,-581.5 81.5,-627.5 407.5,-627.5 407.5,-581.5 81.5,-581.5\" stroke=\"#000000\"/>\n",
       "<text fill=\"#000000\" font-family=\"Times,serif\" font-size=\"14.00\" text-anchor=\"middle\" x=\"154.5\" y=\"-600.8\">block5_conv1: Conv2D</text>\n",
       "<polyline fill=\"none\" points=\"227.5,-581.5 227.5,-627.5 \" stroke=\"#000000\"/>\n",
       "<text fill=\"#000000\" font-family=\"Times,serif\" font-size=\"14.00\" text-anchor=\"middle\" x=\"255\" y=\"-612.3\">input:</text>\n",
       "<polyline fill=\"none\" points=\"227.5,-604.5 282.5,-604.5 \" stroke=\"#000000\"/>\n",
       "<text fill=\"#000000\" font-family=\"Times,serif\" font-size=\"14.00\" text-anchor=\"middle\" x=\"255\" y=\"-589.3\">output:</text>\n",
       "<polyline fill=\"none\" points=\"282.5,-581.5 282.5,-627.5 \" stroke=\"#000000\"/>\n",
       "<text fill=\"#000000\" font-family=\"Times,serif\" font-size=\"14.00\" text-anchor=\"middle\" x=\"345\" y=\"-612.3\">(None, 14, 14, 512)</text>\n",
       "<polyline fill=\"none\" points=\"282.5,-604.5 407.5,-604.5 \" stroke=\"#000000\"/>\n",
       "<text fill=\"#000000\" font-family=\"Times,serif\" font-size=\"14.00\" text-anchor=\"middle\" x=\"345\" y=\"-589.3\">(None, 14, 14, 512)</text>\n",
       "</g>\n",
       "<!-- 140332561620384&#45;&gt;140332562070552 -->\n",
       "<g class=\"edge\" id=\"edge15\">\n",
       "<title>140332561620384-&gt;140332562070552</title>\n",
       "<path d=\"M244.5,-664.3799C244.5,-656.1745 244.5,-646.7679 244.5,-637.8786\" fill=\"none\" stroke=\"#000000\"/>\n",
       "<polygon fill=\"#000000\" points=\"248.0001,-637.784 244.5,-627.784 241.0001,-637.784 248.0001,-637.784\" stroke=\"#000000\"/>\n",
       "</g>\n",
       "<!-- 140332561987120 -->\n",
       "<g class=\"node\" id=\"node17\">\n",
       "<title>140332561987120</title>\n",
       "<polygon fill=\"none\" points=\"81.5,-498.5 81.5,-544.5 407.5,-544.5 407.5,-498.5 81.5,-498.5\" stroke=\"#000000\"/>\n",
       "<text fill=\"#000000\" font-family=\"Times,serif\" font-size=\"14.00\" text-anchor=\"middle\" x=\"154.5\" y=\"-517.8\">block5_conv2: Conv2D</text>\n",
       "<polyline fill=\"none\" points=\"227.5,-498.5 227.5,-544.5 \" stroke=\"#000000\"/>\n",
       "<text fill=\"#000000\" font-family=\"Times,serif\" font-size=\"14.00\" text-anchor=\"middle\" x=\"255\" y=\"-529.3\">input:</text>\n",
       "<polyline fill=\"none\" points=\"227.5,-521.5 282.5,-521.5 \" stroke=\"#000000\"/>\n",
       "<text fill=\"#000000\" font-family=\"Times,serif\" font-size=\"14.00\" text-anchor=\"middle\" x=\"255\" y=\"-506.3\">output:</text>\n",
       "<polyline fill=\"none\" points=\"282.5,-498.5 282.5,-544.5 \" stroke=\"#000000\"/>\n",
       "<text fill=\"#000000\" font-family=\"Times,serif\" font-size=\"14.00\" text-anchor=\"middle\" x=\"345\" y=\"-529.3\">(None, 14, 14, 512)</text>\n",
       "<polyline fill=\"none\" points=\"282.5,-521.5 407.5,-521.5 \" stroke=\"#000000\"/>\n",
       "<text fill=\"#000000\" font-family=\"Times,serif\" font-size=\"14.00\" text-anchor=\"middle\" x=\"345\" y=\"-506.3\">(None, 14, 14, 512)</text>\n",
       "</g>\n",
       "<!-- 140332562070552&#45;&gt;140332561987120 -->\n",
       "<g class=\"edge\" id=\"edge16\">\n",
       "<title>140332562070552-&gt;140332561987120</title>\n",
       "<path d=\"M244.5,-581.3799C244.5,-573.1745 244.5,-563.7679 244.5,-554.8786\" fill=\"none\" stroke=\"#000000\"/>\n",
       "<polygon fill=\"#000000\" points=\"248.0001,-554.784 244.5,-544.784 241.0001,-554.784 248.0001,-554.784\" stroke=\"#000000\"/>\n",
       "</g>\n",
       "<!-- 140332562379496 -->\n",
       "<g class=\"node\" id=\"node18\">\n",
       "<title>140332562379496</title>\n",
       "<polygon fill=\"none\" points=\"81.5,-415.5 81.5,-461.5 407.5,-461.5 407.5,-415.5 81.5,-415.5\" stroke=\"#000000\"/>\n",
       "<text fill=\"#000000\" font-family=\"Times,serif\" font-size=\"14.00\" text-anchor=\"middle\" x=\"154.5\" y=\"-434.8\">block5_conv3: Conv2D</text>\n",
       "<polyline fill=\"none\" points=\"227.5,-415.5 227.5,-461.5 \" stroke=\"#000000\"/>\n",
       "<text fill=\"#000000\" font-family=\"Times,serif\" font-size=\"14.00\" text-anchor=\"middle\" x=\"255\" y=\"-446.3\">input:</text>\n",
       "<polyline fill=\"none\" points=\"227.5,-438.5 282.5,-438.5 \" stroke=\"#000000\"/>\n",
       "<text fill=\"#000000\" font-family=\"Times,serif\" font-size=\"14.00\" text-anchor=\"middle\" x=\"255\" y=\"-423.3\">output:</text>\n",
       "<polyline fill=\"none\" points=\"282.5,-415.5 282.5,-461.5 \" stroke=\"#000000\"/>\n",
       "<text fill=\"#000000\" font-family=\"Times,serif\" font-size=\"14.00\" text-anchor=\"middle\" x=\"345\" y=\"-446.3\">(None, 14, 14, 512)</text>\n",
       "<polyline fill=\"none\" points=\"282.5,-438.5 407.5,-438.5 \" stroke=\"#000000\"/>\n",
       "<text fill=\"#000000\" font-family=\"Times,serif\" font-size=\"14.00\" text-anchor=\"middle\" x=\"345\" y=\"-423.3\">(None, 14, 14, 512)</text>\n",
       "</g>\n",
       "<!-- 140332561987120&#45;&gt;140332562379496 -->\n",
       "<g class=\"edge\" id=\"edge17\">\n",
       "<title>140332561987120-&gt;140332562379496</title>\n",
       "<path d=\"M244.5,-498.3799C244.5,-490.1745 244.5,-480.7679 244.5,-471.8786\" fill=\"none\" stroke=\"#000000\"/>\n",
       "<polygon fill=\"#000000\" points=\"248.0001,-471.784 244.5,-461.784 241.0001,-471.784 248.0001,-471.784\" stroke=\"#000000\"/>\n",
       "</g>\n",
       "<!-- 140332561897232 -->\n",
       "<g class=\"node\" id=\"node19\">\n",
       "<title>140332561897232</title>\n",
       "<polygon fill=\"none\" points=\"66.5,-332.5 66.5,-378.5 422.5,-378.5 422.5,-332.5 66.5,-332.5\" stroke=\"#000000\"/>\n",
       "<text fill=\"#000000\" font-family=\"Times,serif\" font-size=\"14.00\" text-anchor=\"middle\" x=\"154.5\" y=\"-351.8\">block5_pool: MaxPooling2D</text>\n",
       "<polyline fill=\"none\" points=\"242.5,-332.5 242.5,-378.5 \" stroke=\"#000000\"/>\n",
       "<text fill=\"#000000\" font-family=\"Times,serif\" font-size=\"14.00\" text-anchor=\"middle\" x=\"270\" y=\"-363.3\">input:</text>\n",
       "<polyline fill=\"none\" points=\"242.5,-355.5 297.5,-355.5 \" stroke=\"#000000\"/>\n",
       "<text fill=\"#000000\" font-family=\"Times,serif\" font-size=\"14.00\" text-anchor=\"middle\" x=\"270\" y=\"-340.3\">output:</text>\n",
       "<polyline fill=\"none\" points=\"297.5,-332.5 297.5,-378.5 \" stroke=\"#000000\"/>\n",
       "<text fill=\"#000000\" font-family=\"Times,serif\" font-size=\"14.00\" text-anchor=\"middle\" x=\"360\" y=\"-363.3\">(None, 14, 14, 512)</text>\n",
       "<polyline fill=\"none\" points=\"297.5,-355.5 422.5,-355.5 \" stroke=\"#000000\"/>\n",
       "<text fill=\"#000000\" font-family=\"Times,serif\" font-size=\"14.00\" text-anchor=\"middle\" x=\"360\" y=\"-340.3\">(None, 7, 7, 512)</text>\n",
       "</g>\n",
       "<!-- 140332562379496&#45;&gt;140332561897232 -->\n",
       "<g class=\"edge\" id=\"edge18\">\n",
       "<title>140332562379496-&gt;140332561897232</title>\n",
       "<path d=\"M244.5,-415.3799C244.5,-407.1745 244.5,-397.7679 244.5,-388.8786\" fill=\"none\" stroke=\"#000000\"/>\n",
       "<polygon fill=\"#000000\" points=\"248.0001,-388.784 244.5,-378.784 241.0001,-388.784 248.0001,-388.784\" stroke=\"#000000\"/>\n",
       "</g>\n",
       "<!-- 140332562206448 -->\n",
       "<g class=\"node\" id=\"node20\">\n",
       "<title>140332562206448</title>\n",
       "<polygon fill=\"none\" points=\"0,-249.5 0,-295.5 489,-295.5 489,-249.5 0,-249.5\" stroke=\"#000000\"/>\n",
       "<text fill=\"#000000\" font-family=\"Times,serif\" font-size=\"14.00\" text-anchor=\"middle\" x=\"161.5\" y=\"-268.8\">global_average_pooling2d_3: GlobalAveragePooling2D</text>\n",
       "<polyline fill=\"none\" points=\"323,-249.5 323,-295.5 \" stroke=\"#000000\"/>\n",
       "<text fill=\"#000000\" font-family=\"Times,serif\" font-size=\"14.00\" text-anchor=\"middle\" x=\"350.5\" y=\"-280.3\">input:</text>\n",
       "<polyline fill=\"none\" points=\"323,-272.5 378,-272.5 \" stroke=\"#000000\"/>\n",
       "<text fill=\"#000000\" font-family=\"Times,serif\" font-size=\"14.00\" text-anchor=\"middle\" x=\"350.5\" y=\"-257.3\">output:</text>\n",
       "<polyline fill=\"none\" points=\"378,-249.5 378,-295.5 \" stroke=\"#000000\"/>\n",
       "<text fill=\"#000000\" font-family=\"Times,serif\" font-size=\"14.00\" text-anchor=\"middle\" x=\"433.5\" y=\"-280.3\">(None, 7, 7, 512)</text>\n",
       "<polyline fill=\"none\" points=\"378,-272.5 489,-272.5 \" stroke=\"#000000\"/>\n",
       "<text fill=\"#000000\" font-family=\"Times,serif\" font-size=\"14.00\" text-anchor=\"middle\" x=\"433.5\" y=\"-257.3\">(None, 512)</text>\n",
       "</g>\n",
       "<!-- 140332561897232&#45;&gt;140332562206448 -->\n",
       "<g class=\"edge\" id=\"edge19\">\n",
       "<title>140332561897232-&gt;140332562206448</title>\n",
       "<path d=\"M244.5,-332.3799C244.5,-324.1745 244.5,-314.7679 244.5,-305.8786\" fill=\"none\" stroke=\"#000000\"/>\n",
       "<polygon fill=\"#000000\" points=\"248.0001,-305.784 244.5,-295.784 241.0001,-305.784 248.0001,-305.784\" stroke=\"#000000\"/>\n",
       "</g>\n",
       "<!-- 140332562204824 -->\n",
       "<g class=\"node\" id=\"node21\">\n",
       "<title>140332562204824</title>\n",
       "<polygon fill=\"none\" points=\"124.5,-166.5 124.5,-212.5 364.5,-212.5 364.5,-166.5 124.5,-166.5\" stroke=\"#000000\"/>\n",
       "<text fill=\"#000000\" font-family=\"Times,serif\" font-size=\"14.00\" text-anchor=\"middle\" x=\"175.5\" y=\"-185.8\">dense_6: Dense</text>\n",
       "<polyline fill=\"none\" points=\"226.5,-166.5 226.5,-212.5 \" stroke=\"#000000\"/>\n",
       "<text fill=\"#000000\" font-family=\"Times,serif\" font-size=\"14.00\" text-anchor=\"middle\" x=\"254\" y=\"-197.3\">input:</text>\n",
       "<polyline fill=\"none\" points=\"226.5,-189.5 281.5,-189.5 \" stroke=\"#000000\"/>\n",
       "<text fill=\"#000000\" font-family=\"Times,serif\" font-size=\"14.00\" text-anchor=\"middle\" x=\"254\" y=\"-174.3\">output:</text>\n",
       "<polyline fill=\"none\" points=\"281.5,-166.5 281.5,-212.5 \" stroke=\"#000000\"/>\n",
       "<text fill=\"#000000\" font-family=\"Times,serif\" font-size=\"14.00\" text-anchor=\"middle\" x=\"323\" y=\"-197.3\">(None, 512)</text>\n",
       "<polyline fill=\"none\" points=\"281.5,-189.5 364.5,-189.5 \" stroke=\"#000000\"/>\n",
       "<text fill=\"#000000\" font-family=\"Times,serif\" font-size=\"14.00\" text-anchor=\"middle\" x=\"323\" y=\"-174.3\">(None, 512)</text>\n",
       "</g>\n",
       "<!-- 140332562206448&#45;&gt;140332562204824 -->\n",
       "<g class=\"edge\" id=\"edge20\">\n",
       "<title>140332562206448-&gt;140332562204824</title>\n",
       "<path d=\"M244.5,-249.3799C244.5,-241.1745 244.5,-231.7679 244.5,-222.8786\" fill=\"none\" stroke=\"#000000\"/>\n",
       "<polygon fill=\"#000000\" points=\"248.0001,-222.784 244.5,-212.784 241.0001,-222.784 248.0001,-222.784\" stroke=\"#000000\"/>\n",
       "</g>\n",
       "<!-- 140332562563424 -->\n",
       "<g class=\"node\" id=\"node22\">\n",
       "<title>140332562563424</title>\n",
       "<polygon fill=\"none\" points=\"124.5,-83.5 124.5,-129.5 364.5,-129.5 364.5,-83.5 124.5,-83.5\" stroke=\"#000000\"/>\n",
       "<text fill=\"#000000\" font-family=\"Times,serif\" font-size=\"14.00\" text-anchor=\"middle\" x=\"175.5\" y=\"-102.8\">dense_7: Dense</text>\n",
       "<polyline fill=\"none\" points=\"226.5,-83.5 226.5,-129.5 \" stroke=\"#000000\"/>\n",
       "<text fill=\"#000000\" font-family=\"Times,serif\" font-size=\"14.00\" text-anchor=\"middle\" x=\"254\" y=\"-114.3\">input:</text>\n",
       "<polyline fill=\"none\" points=\"226.5,-106.5 281.5,-106.5 \" stroke=\"#000000\"/>\n",
       "<text fill=\"#000000\" font-family=\"Times,serif\" font-size=\"14.00\" text-anchor=\"middle\" x=\"254\" y=\"-91.3\">output:</text>\n",
       "<polyline fill=\"none\" points=\"281.5,-83.5 281.5,-129.5 \" stroke=\"#000000\"/>\n",
       "<text fill=\"#000000\" font-family=\"Times,serif\" font-size=\"14.00\" text-anchor=\"middle\" x=\"323\" y=\"-114.3\">(None, 512)</text>\n",
       "<polyline fill=\"none\" points=\"281.5,-106.5 364.5,-106.5 \" stroke=\"#000000\"/>\n",
       "<text fill=\"#000000\" font-family=\"Times,serif\" font-size=\"14.00\" text-anchor=\"middle\" x=\"323\" y=\"-91.3\">(None, 256)</text>\n",
       "</g>\n",
       "<!-- 140332562204824&#45;&gt;140332562563424 -->\n",
       "<g class=\"edge\" id=\"edge21\">\n",
       "<title>140332562204824-&gt;140332562563424</title>\n",
       "<path d=\"M244.5,-166.3799C244.5,-158.1745 244.5,-148.7679 244.5,-139.8786\" fill=\"none\" stroke=\"#000000\"/>\n",
       "<polygon fill=\"#000000\" points=\"248.0001,-139.784 244.5,-129.784 241.0001,-139.784 248.0001,-139.784\" stroke=\"#000000\"/>\n",
       "</g>\n",
       "<!-- 140332562863664 -->\n",
       "<g class=\"node\" id=\"node23\">\n",
       "<title>140332562863664</title>\n",
       "<polygon fill=\"none\" points=\"124.5,-.5 124.5,-46.5 364.5,-46.5 364.5,-.5 124.5,-.5\" stroke=\"#000000\"/>\n",
       "<text fill=\"#000000\" font-family=\"Times,serif\" font-size=\"14.00\" text-anchor=\"middle\" x=\"175.5\" y=\"-19.8\">dense_8: Dense</text>\n",
       "<polyline fill=\"none\" points=\"226.5,-.5 226.5,-46.5 \" stroke=\"#000000\"/>\n",
       "<text fill=\"#000000\" font-family=\"Times,serif\" font-size=\"14.00\" text-anchor=\"middle\" x=\"254\" y=\"-31.3\">input:</text>\n",
       "<polyline fill=\"none\" points=\"226.5,-23.5 281.5,-23.5 \" stroke=\"#000000\"/>\n",
       "<text fill=\"#000000\" font-family=\"Times,serif\" font-size=\"14.00\" text-anchor=\"middle\" x=\"254\" y=\"-8.3\">output:</text>\n",
       "<polyline fill=\"none\" points=\"281.5,-.5 281.5,-46.5 \" stroke=\"#000000\"/>\n",
       "<text fill=\"#000000\" font-family=\"Times,serif\" font-size=\"14.00\" text-anchor=\"middle\" x=\"323\" y=\"-31.3\">(None, 256)</text>\n",
       "<polyline fill=\"none\" points=\"281.5,-23.5 364.5,-23.5 \" stroke=\"#000000\"/>\n",
       "<text fill=\"#000000\" font-family=\"Times,serif\" font-size=\"14.00\" text-anchor=\"middle\" x=\"323\" y=\"-8.3\">(None, 10)</text>\n",
       "</g>\n",
       "<!-- 140332562563424&#45;&gt;140332562863664 -->\n",
       "<g class=\"edge\" id=\"edge22\">\n",
       "<title>140332562563424-&gt;140332562863664</title>\n",
       "<path d=\"M244.5,-83.3799C244.5,-75.1745 244.5,-65.7679 244.5,-56.8786\" fill=\"none\" stroke=\"#000000\"/>\n",
       "<polygon fill=\"#000000\" points=\"248.0001,-56.784 244.5,-46.784 241.0001,-56.784 248.0001,-56.784\" stroke=\"#000000\"/>\n",
       "</g>\n",
       "</g>\n",
       "</svg>"
      ],
      "text/plain": [
       "<IPython.core.display.SVG object>"
      ]
     },
     "execution_count": 37,
     "metadata": {},
     "output_type": "execute_result"
    }
   ],
   "source": [
    "from IPython.display import SVG\n",
    "from keras.utils.vis_utils import model_to_dot, plot_model\n",
    "import pydot\n",
    "import graphviz\n",
    "plot_model(vgg, show_shapes=True, to_file='model_simple.png')\n",
    "SVG(model_to_dot(vgg, show_shapes=True).create(prog='dot', format='svg'))"
   ]
  },
  {
   "cell_type": "code",
   "execution_count": null,
   "metadata": {},
   "outputs": [],
   "source": []
  }
 ],
 "metadata": {
  "kernelspec": {
   "display_name": "Environment (conda_tensorflow_p36)",
   "language": "python",
   "name": "conda_tensorflow_p36"
  },
  "language_info": {
   "codemirror_mode": {
    "name": "ipython",
    "version": 3
   },
   "file_extension": ".py",
   "mimetype": "text/x-python",
   "name": "python",
   "nbconvert_exporter": "python",
   "pygments_lexer": "ipython3",
   "version": "3.6.4"
  }
 },
 "nbformat": 4,
 "nbformat_minor": 2
}
